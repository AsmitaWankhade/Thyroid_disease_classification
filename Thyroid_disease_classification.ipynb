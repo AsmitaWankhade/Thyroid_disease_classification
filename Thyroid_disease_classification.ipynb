{
 "cells": [
  {
   "cell_type": "code",
   "execution_count": 281,
   "id": "f1647155",
   "metadata": {},
   "outputs": [
    {
     "name": "stdout",
     "output_type": "stream",
     "text": [
      "      0  1  2  3  4  5  6  7  8  9   ... 20   21 22    23 24  25 26  27  \\\n",
      "0     29  F  f  f  f  f  f  f  f  t  ...  f    ?  f     ?  f   ?  f   ?   \n",
      "1     29  F  f  f  f  f  f  f  f  f  ...  t  128  f     ?  f   ?  f   ?   \n",
      "2     41  F  f  f  f  f  f  f  f  f  ...  f    ?  f     ?  f   ?  t  11   \n",
      "3     36  F  f  f  f  f  f  f  f  f  ...  f    ?  f     ?  f   ?  t  26   \n",
      "4     32  F  f  f  f  f  f  f  f  f  ...  f    ?  f     ?  f   ?  t  36   \n",
      "...   .. .. .. .. .. .. .. .. .. ..  ... ..  ... ..   ... ..  .. ..  ..   \n",
      "9167  56  M  f  f  f  f  f  f  f  f  ...  t   64  t  0.83  t  77  f   ?   \n",
      "9168  22  M  f  f  f  f  f  f  f  f  ...  t   91  t  0.92  t  99  f   ?   \n",
      "9169  69  M  f  f  f  f  f  f  f  f  ...  t  113  t  1.27  t  89  f   ?   \n",
      "9170  47  F  f  f  f  f  f  f  f  f  ...  t   75  t  0.85  t  88  f   ?   \n",
      "9171  31  M  f  f  f  f  f  f  f  t  ...  t   66  t  1.02  t  65  f   ?   \n",
      "\n",
      "         28            29  \n",
      "0     other  -[840801013]  \n",
      "1     other  -[840801014]  \n",
      "2     other  -[840801042]  \n",
      "3     other  -[840803046]  \n",
      "4     other  S[840803047]  \n",
      "...     ...           ...  \n",
      "9167    SVI  -[870119022]  \n",
      "9168    SVI  -[870119023]  \n",
      "9169    SVI  I[870119025]  \n",
      "9170  other  -[870119027]  \n",
      "9171  other  -[870119035]  \n",
      "\n",
      "[9172 rows x 30 columns]\n"
     ]
    }
   ],
   "source": [
    "import pandas as pd\n",
    "  \n",
    "# Read a text file to a dataframe using  delimiters\n",
    "thyroid =  pd.read_table(\"C:/Users/mindstix/Downloads/thyroid0387.data\", delimiter=\",\", header=None)\n",
    " \n",
    "print(thyroid)"
   ]
  },
  {
   "cell_type": "code",
   "execution_count": 11,
   "id": "b566ee71",
   "metadata": {},
   "outputs": [
    {
     "data": {
      "text/plain": [
       "30"
      ]
     },
     "execution_count": 11,
     "metadata": {},
     "output_type": "execute_result"
    }
   ],
   "source": [
    "len(thyroid.columns)"
   ]
  },
  {
   "cell_type": "markdown",
   "id": "d5b24d1b",
   "metadata": {},
   "source": [
    "###Dataset-\n",
    "The dataset consists of 30 columns - 29 features and the last column has both labels and patient id. \n",
    "Patient id is not required for classification. \n",
    "Label column is separated and stored as ‘target’ in the dataframe."
   ]
  },
  {
   "cell_type": "code",
   "execution_count": 282,
   "id": "9630d867",
   "metadata": {},
   "outputs": [],
   "source": [
    "thyroid[['target', 'id']] = thyroid[29].apply(lambda x: pd.Series(str(x).split(\"[\")))\n"
   ]
  },
  {
   "cell_type": "code",
   "execution_count": 283,
   "id": "077fb018",
   "metadata": {},
   "outputs": [],
   "source": [
    "y=thyroid['target']"
   ]
  },
  {
   "cell_type": "code",
   "execution_count": 284,
   "id": "73eac61f",
   "metadata": {},
   "outputs": [],
   "source": [
    "x=thyroid.drop(['id',29], axis=1)"
   ]
  },
  {
   "cell_type": "code",
   "execution_count": 292,
   "id": "d768dc51",
   "metadata": {},
   "outputs": [],
   "source": [
    "x.drop('target',axis=1,inplace=True)"
   ]
  },
  {
   "cell_type": "code",
   "execution_count": 293,
   "id": "2d9ad8ac",
   "metadata": {},
   "outputs": [],
   "source": [
    "x.columns=['age', 'sex', 'on_thyroxine', 'query_on_thyroxine',\n",
    "       'on_antithyroid_meds', 'sick', 'pregnant', 'thyroid_surgery',\n",
    "       'I131_treatment', 'query_hypothyroid', 'query_hyperthyroid', 'lithium',\n",
    "       'goitre', 'tumor', 'hypopituitary', 'psych', 'TSH_measured', 'TSH',\n",
    "       'T3_measured', 'T3', 'TT4_measured', 'TT4', 'T4U_measured', 'T4U',\n",
    "       'FTI_measured', 'FTI', 'TBG_measured', 'TBG', 'referral_source'\n",
    "       ]"
   ]
  },
  {
   "cell_type": "code",
   "execution_count": 518,
   "id": "946d51c3",
   "metadata": {},
   "outputs": [
    {
     "data": {
      "text/plain": [
       "'F'"
      ]
     },
     "execution_count": 518,
     "metadata": {},
     "output_type": "execute_result"
    }
   ],
   "source": [
    "y[1501]"
   ]
  },
  {
   "cell_type": "code",
   "execution_count": 63,
   "id": "2f6a3d87",
   "metadata": {},
   "outputs": [
    {
     "name": "stdout",
     "output_type": "stream",
     "text": [
      "<class 'pandas.core.frame.DataFrame'>\n",
      "RangeIndex: 9172 entries, 0 to 9171\n",
      "Data columns (total 30 columns):\n",
      " #   Column               Non-Null Count  Dtype \n",
      "---  ------               --------------  ----- \n",
      " 0   age                  9172 non-null   int64 \n",
      " 1   sex                  9172 non-null   object\n",
      " 2   on_thyroxine         9172 non-null   object\n",
      " 3   query_on_thyroxine   9172 non-null   object\n",
      " 4   on_antithyroid_meds  9172 non-null   object\n",
      " 5   sick                 9172 non-null   object\n",
      " 6   pregnant             9172 non-null   object\n",
      " 7   thyroid_surgery      9172 non-null   object\n",
      " 8   I131_treatment       9172 non-null   object\n",
      " 9   query_hypothyroid    9172 non-null   object\n",
      " 10  query_hyperthyroid   9172 non-null   object\n",
      " 11  lithium              9172 non-null   object\n",
      " 12  goitre               9172 non-null   object\n",
      " 13  tumor                9172 non-null   object\n",
      " 14  hypopituitary        9172 non-null   object\n",
      " 15  psych                9172 non-null   object\n",
      " 16  TSH_measured         9172 non-null   object\n",
      " 17  TSH                  9172 non-null   object\n",
      " 18  T3_measured          9172 non-null   object\n",
      " 19  T3                   9172 non-null   object\n",
      " 20  TT4_measured         9172 non-null   object\n",
      " 21  TT4                  9172 non-null   object\n",
      " 22  T4U_measured         9172 non-null   object\n",
      " 23  T4U                  9172 non-null   object\n",
      " 24  FTI_measured         9172 non-null   object\n",
      " 25  FTI                  9172 non-null   object\n",
      " 26  TBG_measured         9172 non-null   object\n",
      " 27  TBG                  9172 non-null   object\n",
      " 28  referral_source      9172 non-null   object\n",
      " 29  target               9172 non-null   object\n",
      "dtypes: int64(1), object(29)\n",
      "memory usage: 2.1+ MB\n"
     ]
    }
   ],
   "source": [
    "x.info()"
   ]
  },
  {
   "cell_type": "code",
   "execution_count": 295,
   "id": "4c791b68",
   "metadata": {},
   "outputs": [],
   "source": [
    "x['T4U']=x['T4U'].apply(lambda x: np.nan if x == '?' else x)"
   ]
  },
  {
   "cell_type": "code",
   "execution_count": 296,
   "id": "db954520",
   "metadata": {},
   "outputs": [],
   "source": [
    "for c in x.columns:\n",
    "    x[c]=x[c].apply(lambda x: np.nan if x == '?' else x)"
   ]
  },
  {
   "cell_type": "code",
   "execution_count": 297,
   "id": "20506a70",
   "metadata": {},
   "outputs": [],
   "source": [
    "import numpy as np"
   ]
  },
  {
   "cell_type": "code",
   "execution_count": 298,
   "id": "998d72da",
   "metadata": {},
   "outputs": [
    {
     "data": {
      "text/plain": [
       "age                       0\n",
       "sex                     307\n",
       "on_thyroxine              0\n",
       "query_on_thyroxine        0\n",
       "on_antithyroid_meds       0\n",
       "sick                      0\n",
       "pregnant                  0\n",
       "thyroid_surgery           0\n",
       "I131_treatment            0\n",
       "query_hypothyroid         0\n",
       "query_hyperthyroid        0\n",
       "lithium                   0\n",
       "goitre                    0\n",
       "tumor                     0\n",
       "hypopituitary             0\n",
       "psych                     0\n",
       "TSH_measured              0\n",
       "TSH                     842\n",
       "T3_measured               0\n",
       "T3                     2604\n",
       "TT4_measured              0\n",
       "TT4                     442\n",
       "T4U_measured              0\n",
       "T4U                     809\n",
       "FTI_measured              0\n",
       "FTI                     802\n",
       "TBG_measured              0\n",
       "TBG                    8823\n",
       "referral_source           0\n",
       "dtype: int64"
      ]
     },
     "execution_count": 298,
     "metadata": {},
     "output_type": "execute_result"
    }
   ],
   "source": [
    "x.isnull().sum()"
   ]
  },
  {
   "cell_type": "code",
   "execution_count": 299,
   "id": "59d25d51",
   "metadata": {},
   "outputs": [
    {
     "data": {
      "text/plain": [
       "<AxesSubplot:ylabel='sex'>"
      ]
     },
     "execution_count": 299,
     "metadata": {},
     "output_type": "execute_result"
    },
    {
     "data": {
      "image/png": "[encoded data removed]",
      "text/plain": [
       "<Figure size 640x480 with 1 Axes>"
      ]
     },
     "metadata": {},
     "output_type": "display_data"
    }
   ],
   "source": [
    "x['sex'].value_counts().plot.pie()"
   ]
  },
  {
   "cell_type": "code",
   "execution_count": 300,
   "id": "ae205450",
   "metadata": {},
   "outputs": [],
   "source": [
    "x['TBG'].fillna(0,inplace=True)\n",
    "#In TBG most of the values were null, hence replaced by zero"
   ]
  },
  {
   "cell_type": "code",
   "execution_count": 301,
   "id": "e38ec04d",
   "metadata": {},
   "outputs": [],
   "source": [
    "x['sex'] = x['sex'].map({'F' : 0, 'M' : 1})\n"
   ]
  },
  {
   "cell_type": "code",
   "execution_count": 302,
   "id": "aa74c521",
   "metadata": {},
   "outputs": [],
   "source": [
    "cols= x.loc[:,~x.columns.isin(['age','sex','TSH','T3','TT4','T4U','FTI','TBG','referral_source','target'])]"
   ]
  },
  {
   "cell_type": "code",
   "execution_count": 303,
   "id": "4fcb29ab",
   "metadata": {},
   "outputs": [],
   "source": [
    "for c in cols:\n",
    "    x[c] = x[c].map({'f' : 0, 't' : 1})"
   ]
  },
  {
   "cell_type": "code",
   "execution_count": 304,
   "id": "001ca69c",
   "metadata": {},
   "outputs": [
    {
     "data": {
      "text/plain": [
       "60       209\n",
       "62       208\n",
       "72       207\n",
       "59       201\n",
       "61       192\n",
       "        ... \n",
       "3          2\n",
       "455        1\n",
       "65511      1\n",
       "65512      1\n",
       "65526      1\n",
       "Name: age, Length: 100, dtype: int64"
      ]
     },
     "execution_count": 304,
     "metadata": {},
     "output_type": "execute_result"
    }
   ],
   "source": [
    "x['age'].value_counts()"
   ]
  },
  {
   "cell_type": "code",
   "execution_count": 306,
   "id": "9b2f1ac4",
   "metadata": {},
   "outputs": [],
   "source": [
    "x['target']=y"
   ]
  },
  {
   "cell_type": "code",
   "execution_count": 307,
   "id": "96efb603",
   "metadata": {},
   "outputs": [
    {
     "data": {
      "text/html": [
       "<div>\n",
       "<style scoped>\n",
       "    .dataframe tbody tr th:only-of-type {\n",
       "        vertical-align: middle;\n",
       "    }\n",
       "\n",
       "    .dataframe tbody tr th {\n",
       "        vertical-align: top;\n",
       "    }\n",
       "\n",
       "    .dataframe thead th {\n",
       "        text-align: right;\n",
       "    }\n",
       "</style>\n",
       "<table border=\"1\" class=\"dataframe\">\n",
       "  <thead>\n",
       "    <tr style=\"text-align: right;\">\n",
       "      <th></th>\n",
       "      <th>age</th>\n",
       "      <th>sex</th>\n",
       "      <th>on_thyroxine</th>\n",
       "      <th>query_on_thyroxine</th>\n",
       "      <th>on_antithyroid_meds</th>\n",
       "      <th>sick</th>\n",
       "      <th>pregnant</th>\n",
       "      <th>thyroid_surgery</th>\n",
       "      <th>I131_treatment</th>\n",
       "      <th>query_hypothyroid</th>\n",
       "      <th>...</th>\n",
       "      <th>TT4_measured</th>\n",
       "      <th>TT4</th>\n",
       "      <th>T4U_measured</th>\n",
       "      <th>T4U</th>\n",
       "      <th>FTI_measured</th>\n",
       "      <th>FTI</th>\n",
       "      <th>TBG_measured</th>\n",
       "      <th>TBG</th>\n",
       "      <th>referral_source</th>\n",
       "      <th>target</th>\n",
       "    </tr>\n",
       "  </thead>\n",
       "  <tbody>\n",
       "    <tr>\n",
       "      <th>0</th>\n",
       "      <td>29</td>\n",
       "      <td>0.0</td>\n",
       "      <td>0</td>\n",
       "      <td>0</td>\n",
       "      <td>0</td>\n",
       "      <td>0</td>\n",
       "      <td>0</td>\n",
       "      <td>0</td>\n",
       "      <td>0</td>\n",
       "      <td>1</td>\n",
       "      <td>...</td>\n",
       "      <td>0</td>\n",
       "      <td>NaN</td>\n",
       "      <td>0</td>\n",
       "      <td>NaN</td>\n",
       "      <td>0</td>\n",
       "      <td>NaN</td>\n",
       "      <td>0</td>\n",
       "      <td>0</td>\n",
       "      <td>other</td>\n",
       "      <td>-</td>\n",
       "    </tr>\n",
       "    <tr>\n",
       "      <th>1</th>\n",
       "      <td>29</td>\n",
       "      <td>0.0</td>\n",
       "      <td>0</td>\n",
       "      <td>0</td>\n",
       "      <td>0</td>\n",
       "      <td>0</td>\n",
       "      <td>0</td>\n",
       "      <td>0</td>\n",
       "      <td>0</td>\n",
       "      <td>0</td>\n",
       "      <td>...</td>\n",
       "      <td>1</td>\n",
       "      <td>128</td>\n",
       "      <td>0</td>\n",
       "      <td>NaN</td>\n",
       "      <td>0</td>\n",
       "      <td>NaN</td>\n",
       "      <td>0</td>\n",
       "      <td>0</td>\n",
       "      <td>other</td>\n",
       "      <td>-</td>\n",
       "    </tr>\n",
       "    <tr>\n",
       "      <th>2</th>\n",
       "      <td>41</td>\n",
       "      <td>0.0</td>\n",
       "      <td>0</td>\n",
       "      <td>0</td>\n",
       "      <td>0</td>\n",
       "      <td>0</td>\n",
       "      <td>0</td>\n",
       "      <td>0</td>\n",
       "      <td>0</td>\n",
       "      <td>0</td>\n",
       "      <td>...</td>\n",
       "      <td>0</td>\n",
       "      <td>NaN</td>\n",
       "      <td>0</td>\n",
       "      <td>NaN</td>\n",
       "      <td>0</td>\n",
       "      <td>NaN</td>\n",
       "      <td>1</td>\n",
       "      <td>11</td>\n",
       "      <td>other</td>\n",
       "      <td>-</td>\n",
       "    </tr>\n",
       "    <tr>\n",
       "      <th>3</th>\n",
       "      <td>36</td>\n",
       "      <td>0.0</td>\n",
       "      <td>0</td>\n",
       "      <td>0</td>\n",
       "      <td>0</td>\n",
       "      <td>0</td>\n",
       "      <td>0</td>\n",
       "      <td>0</td>\n",
       "      <td>0</td>\n",
       "      <td>0</td>\n",
       "      <td>...</td>\n",
       "      <td>0</td>\n",
       "      <td>NaN</td>\n",
       "      <td>0</td>\n",
       "      <td>NaN</td>\n",
       "      <td>0</td>\n",
       "      <td>NaN</td>\n",
       "      <td>1</td>\n",
       "      <td>26</td>\n",
       "      <td>other</td>\n",
       "      <td>-</td>\n",
       "    </tr>\n",
       "    <tr>\n",
       "      <th>4</th>\n",
       "      <td>32</td>\n",
       "      <td>0.0</td>\n",
       "      <td>0</td>\n",
       "      <td>0</td>\n",
       "      <td>0</td>\n",
       "      <td>0</td>\n",
       "      <td>0</td>\n",
       "      <td>0</td>\n",
       "      <td>0</td>\n",
       "      <td>0</td>\n",
       "      <td>...</td>\n",
       "      <td>0</td>\n",
       "      <td>NaN</td>\n",
       "      <td>0</td>\n",
       "      <td>NaN</td>\n",
       "      <td>0</td>\n",
       "      <td>NaN</td>\n",
       "      <td>1</td>\n",
       "      <td>36</td>\n",
       "      <td>other</td>\n",
       "      <td>S</td>\n",
       "    </tr>\n",
       "    <tr>\n",
       "      <th>...</th>\n",
       "      <td>...</td>\n",
       "      <td>...</td>\n",
       "      <td>...</td>\n",
       "      <td>...</td>\n",
       "      <td>...</td>\n",
       "      <td>...</td>\n",
       "      <td>...</td>\n",
       "      <td>...</td>\n",
       "      <td>...</td>\n",
       "      <td>...</td>\n",
       "      <td>...</td>\n",
       "      <td>...</td>\n",
       "      <td>...</td>\n",
       "      <td>...</td>\n",
       "      <td>...</td>\n",
       "      <td>...</td>\n",
       "      <td>...</td>\n",
       "      <td>...</td>\n",
       "      <td>...</td>\n",
       "      <td>...</td>\n",
       "      <td>...</td>\n",
       "    </tr>\n",
       "    <tr>\n",
       "      <th>9167</th>\n",
       "      <td>56</td>\n",
       "      <td>1.0</td>\n",
       "      <td>0</td>\n",
       "      <td>0</td>\n",
       "      <td>0</td>\n",
       "      <td>0</td>\n",
       "      <td>0</td>\n",
       "      <td>0</td>\n",
       "      <td>0</td>\n",
       "      <td>0</td>\n",
       "      <td>...</td>\n",
       "      <td>1</td>\n",
       "      <td>64</td>\n",
       "      <td>1</td>\n",
       "      <td>0.83</td>\n",
       "      <td>1</td>\n",
       "      <td>77</td>\n",
       "      <td>0</td>\n",
       "      <td>0</td>\n",
       "      <td>SVI</td>\n",
       "      <td>-</td>\n",
       "    </tr>\n",
       "    <tr>\n",
       "      <th>9168</th>\n",
       "      <td>22</td>\n",
       "      <td>1.0</td>\n",
       "      <td>0</td>\n",
       "      <td>0</td>\n",
       "      <td>0</td>\n",
       "      <td>0</td>\n",
       "      <td>0</td>\n",
       "      <td>0</td>\n",
       "      <td>0</td>\n",
       "      <td>0</td>\n",
       "      <td>...</td>\n",
       "      <td>1</td>\n",
       "      <td>91</td>\n",
       "      <td>1</td>\n",
       "      <td>0.92</td>\n",
       "      <td>1</td>\n",
       "      <td>99</td>\n",
       "      <td>0</td>\n",
       "      <td>0</td>\n",
       "      <td>SVI</td>\n",
       "      <td>-</td>\n",
       "    </tr>\n",
       "    <tr>\n",
       "      <th>9169</th>\n",
       "      <td>69</td>\n",
       "      <td>1.0</td>\n",
       "      <td>0</td>\n",
       "      <td>0</td>\n",
       "      <td>0</td>\n",
       "      <td>0</td>\n",
       "      <td>0</td>\n",
       "      <td>0</td>\n",
       "      <td>0</td>\n",
       "      <td>0</td>\n",
       "      <td>...</td>\n",
       "      <td>1</td>\n",
       "      <td>113</td>\n",
       "      <td>1</td>\n",
       "      <td>1.27</td>\n",
       "      <td>1</td>\n",
       "      <td>89</td>\n",
       "      <td>0</td>\n",
       "      <td>0</td>\n",
       "      <td>SVI</td>\n",
       "      <td>I</td>\n",
       "    </tr>\n",
       "    <tr>\n",
       "      <th>9170</th>\n",
       "      <td>47</td>\n",
       "      <td>0.0</td>\n",
       "      <td>0</td>\n",
       "      <td>0</td>\n",
       "      <td>0</td>\n",
       "      <td>0</td>\n",
       "      <td>0</td>\n",
       "      <td>0</td>\n",
       "      <td>0</td>\n",
       "      <td>0</td>\n",
       "      <td>...</td>\n",
       "      <td>1</td>\n",
       "      <td>75</td>\n",
       "      <td>1</td>\n",
       "      <td>0.85</td>\n",
       "      <td>1</td>\n",
       "      <td>88</td>\n",
       "      <td>0</td>\n",
       "      <td>0</td>\n",
       "      <td>other</td>\n",
       "      <td>-</td>\n",
       "    </tr>\n",
       "    <tr>\n",
       "      <th>9171</th>\n",
       "      <td>31</td>\n",
       "      <td>1.0</td>\n",
       "      <td>0</td>\n",
       "      <td>0</td>\n",
       "      <td>0</td>\n",
       "      <td>0</td>\n",
       "      <td>0</td>\n",
       "      <td>0</td>\n",
       "      <td>0</td>\n",
       "      <td>1</td>\n",
       "      <td>...</td>\n",
       "      <td>1</td>\n",
       "      <td>66</td>\n",
       "      <td>1</td>\n",
       "      <td>1.02</td>\n",
       "      <td>1</td>\n",
       "      <td>65</td>\n",
       "      <td>0</td>\n",
       "      <td>0</td>\n",
       "      <td>other</td>\n",
       "      <td>-</td>\n",
       "    </tr>\n",
       "  </tbody>\n",
       "</table>\n",
       "<p>9162 rows × 30 columns</p>\n",
       "</div>"
      ],
      "text/plain": [
       "      age  sex  on_thyroxine  query_on_thyroxine  on_antithyroid_meds  sick  \\\n",
       "0      29  0.0             0                   0                    0     0   \n",
       "1      29  0.0             0                   0                    0     0   \n",
       "2      41  0.0             0                   0                    0     0   \n",
       "3      36  0.0             0                   0                    0     0   \n",
       "4      32  0.0             0                   0                    0     0   \n",
       "...   ...  ...           ...                 ...                  ...   ...   \n",
       "9167   56  1.0             0                   0                    0     0   \n",
       "9168   22  1.0             0                   0                    0     0   \n",
       "9169   69  1.0             0                   0                    0     0   \n",
       "9170   47  0.0             0                   0                    0     0   \n",
       "9171   31  1.0             0                   0                    0     0   \n",
       "\n",
       "      pregnant  thyroid_surgery  I131_treatment  query_hypothyroid  ...  \\\n",
       "0            0                0               0                  1  ...   \n",
       "1            0                0               0                  0  ...   \n",
       "2            0                0               0                  0  ...   \n",
       "3            0                0               0                  0  ...   \n",
       "4            0                0               0                  0  ...   \n",
       "...        ...              ...             ...                ...  ...   \n",
       "9167         0                0               0                  0  ...   \n",
       "9168         0                0               0                  0  ...   \n",
       "9169         0                0               0                  0  ...   \n",
       "9170         0                0               0                  0  ...   \n",
       "9171         0                0               0                  1  ...   \n",
       "\n",
       "      TT4_measured  TT4  T4U_measured   T4U  FTI_measured  FTI  TBG_measured  \\\n",
       "0                0  NaN             0   NaN             0  NaN             0   \n",
       "1                1  128             0   NaN             0  NaN             0   \n",
       "2                0  NaN             0   NaN             0  NaN             1   \n",
       "3                0  NaN             0   NaN             0  NaN             1   \n",
       "4                0  NaN             0   NaN             0  NaN             1   \n",
       "...            ...  ...           ...   ...           ...  ...           ...   \n",
       "9167             1   64             1  0.83             1   77             0   \n",
       "9168             1   91             1  0.92             1   99             0   \n",
       "9169             1  113             1  1.27             1   89             0   \n",
       "9170             1   75             1  0.85             1   88             0   \n",
       "9171             1   66             1  1.02             1   65             0   \n",
       "\n",
       "     TBG  referral_source target  \n",
       "0      0            other      -  \n",
       "1      0            other      -  \n",
       "2     11            other      -  \n",
       "3     26            other      -  \n",
       "4     36            other      S  \n",
       "...   ..              ...    ...  \n",
       "9167   0              SVI      -  \n",
       "9168   0              SVI      -  \n",
       "9169   0              SVI      I  \n",
       "9170   0            other      -  \n",
       "9171   0            other      -  \n",
       "\n",
       "[9162 rows x 30 columns]"
      ]
     },
     "execution_count": 307,
     "metadata": {},
     "output_type": "execute_result"
    }
   ],
   "source": [
    "x.drop_duplicates()"
   ]
  },
  {
   "cell_type": "code",
   "execution_count": 308,
   "id": "0ccbe37a",
   "metadata": {},
   "outputs": [],
   "source": [
    "indexAge = x[ (x['age'] >= 125) ].index\n",
    "x.drop(indexAge , inplace=True)\n"
   ]
  },
  {
   "cell_type": "code",
   "execution_count": 311,
   "id": "8a0e3ee0",
   "metadata": {},
   "outputs": [
    {
     "data": {
      "text/plain": [
       "age                       0\n",
       "sex                     307\n",
       "on_thyroxine              0\n",
       "query_on_thyroxine        0\n",
       "on_antithyroid_meds       0\n",
       "sick                      0\n",
       "pregnant                  0\n",
       "thyroid_surgery           0\n",
       "I131_treatment            0\n",
       "query_hypothyroid         0\n",
       "query_hyperthyroid        0\n",
       "lithium                   0\n",
       "goitre                    0\n",
       "tumor                     0\n",
       "hypopituitary             0\n",
       "psych                     0\n",
       "TSH_measured              0\n",
       "TSH                     842\n",
       "T3_measured               0\n",
       "T3                     2603\n",
       "TT4_measured              0\n",
       "TT4                     442\n",
       "T4U_measured              0\n",
       "T4U                     809\n",
       "FTI_measured              0\n",
       "FTI                     802\n",
       "TBG_measured              0\n",
       "TBG                       0\n",
       "referral_source           0\n",
       "target                    0\n",
       "dtype: int64"
      ]
     },
     "execution_count": 311,
     "metadata": {},
     "output_type": "execute_result"
    }
   ],
   "source": [
    "x.isnull().sum()"
   ]
  },
  {
   "cell_type": "code",
   "execution_count": 312,
   "id": "bcc62269",
   "metadata": {},
   "outputs": [],
   "source": [
    "x['TT4'].fillna(x['TT4'].median(), inplace=True)\n",
    "x['T4U'].fillna(x['T4U'].median(), inplace=True)\n",
    "x['FTI'].fillna(x['FTI'].median(), inplace=True)\n",
    "x['T3'].fillna(x['T3'].median(), inplace=True)\n",
    "x['TSH'].fillna(x['TSH'].median(), inplace=True)\n",
    "x['sex'].fillna(x['sex'].median(), inplace=True)\n"
   ]
  },
  {
   "cell_type": "code",
   "execution_count": 313,
   "id": "754d4934",
   "metadata": {},
   "outputs": [
    {
     "data": {
      "text/plain": [
       "array(['other', 'SVI', 'SVHC', 'STMW', 'SVHD', 'WEST'], dtype=object)"
      ]
     },
     "execution_count": 313,
     "metadata": {},
     "output_type": "execute_result"
    }
   ],
   "source": [
    "x['referral_source'].unique()"
   ]
  },
  {
   "cell_type": "code",
   "execution_count": 314,
   "id": "b27c2155",
   "metadata": {},
   "outputs": [],
   "source": [
    "x['referral_source'] = x['referral_source'].map({'other' : 0, 'SVI' : 1, 'SVHC':2, 'STMW':3, 'SVHD':4, 'WEST':5})\n"
   ]
  },
  {
   "cell_type": "code",
   "execution_count": 315,
   "id": "b7cc5570",
   "metadata": {},
   "outputs": [],
   "source": [
    "y = x['target']\n",
    "x = x.drop('target',axis=1)"
   ]
  },
  {
   "cell_type": "code",
   "execution_count": 513,
   "id": "a0127ad3",
   "metadata": {},
   "outputs": [
    {
     "data": {
      "text/plain": [
       "array(['-', 'S', 'F', 'AK', 'R', 'I', 'M', 'N', 'G', 'K', 'A', 'KJ', 'L',\n",
       "       'MK', 'Q', 'J', 'C|I', 'O', 'LJ', 'H|K', 'D', 'GK', 'MI', 'P',\n",
       "       'FK', 'B', 'GI', 'C', 'GKJ', 'OI', 'D|R', 'E'], dtype=object)"
      ]
     },
     "execution_count": 513,
     "metadata": {},
     "output_type": "execute_result"
    }
   ],
   "source": [
    "y.unique()"
   ]
  },
  {
   "cell_type": "code",
   "execution_count": 316,
   "id": "85780063",
   "metadata": {},
   "outputs": [
    {
     "data": {
      "text/plain": [
       "<AxesSubplot:>"
      ]
     },
     "execution_count": 316,
     "metadata": {},
     "output_type": "execute_result"
    },
    {
     "data": {
      "image/png": "[encoded data removed]",
      "text/plain": [
       "<Figure size 640x480 with 1 Axes>"
      ]
     },
     "metadata": {},
     "output_type": "display_data"
    }
   ],
   "source": [
    "y.value_counts().plot.bar()"
   ]
  },
  {
   "cell_type": "code",
   "execution_count": 317,
   "id": "a62cd9a8",
   "metadata": {},
   "outputs": [],
   "source": [
    "import scipy.stats as stats"
   ]
  },
  {
   "cell_type": "code",
   "execution_count": 318,
   "id": "94a2cd69",
   "metadata": {},
   "outputs": [],
   "source": [
    "gender_effect= pd.crosstab(x['sex'],y)"
   ]
  },
  {
   "cell_type": "code",
   "execution_count": 319,
   "id": "0f9e61a6",
   "metadata": {},
   "outputs": [
    {
     "data": {
      "text/html": [
       "<div>\n",
       "<style scoped>\n",
       "    .dataframe tbody tr th:only-of-type {\n",
       "        vertical-align: middle;\n",
       "    }\n",
       "\n",
       "    .dataframe tbody tr th {\n",
       "        vertical-align: top;\n",
       "    }\n",
       "\n",
       "    .dataframe thead th {\n",
       "        text-align: right;\n",
       "    }\n",
       "</style>\n",
       "<table border=\"1\" class=\"dataframe\">\n",
       "  <thead>\n",
       "    <tr style=\"text-align: right;\">\n",
       "      <th>target</th>\n",
       "      <th>-</th>\n",
       "      <th>A</th>\n",
       "      <th>AK</th>\n",
       "      <th>B</th>\n",
       "      <th>C</th>\n",
       "      <th>C|I</th>\n",
       "      <th>D</th>\n",
       "      <th>D|R</th>\n",
       "      <th>E</th>\n",
       "      <th>F</th>\n",
       "      <th>...</th>\n",
       "      <th>M</th>\n",
       "      <th>MI</th>\n",
       "      <th>MK</th>\n",
       "      <th>N</th>\n",
       "      <th>O</th>\n",
       "      <th>OI</th>\n",
       "      <th>P</th>\n",
       "      <th>Q</th>\n",
       "      <th>R</th>\n",
       "      <th>S</th>\n",
       "    </tr>\n",
       "    <tr>\n",
       "      <th>sex</th>\n",
       "      <th></th>\n",
       "      <th></th>\n",
       "      <th></th>\n",
       "      <th></th>\n",
       "      <th></th>\n",
       "      <th></th>\n",
       "      <th></th>\n",
       "      <th></th>\n",
       "      <th></th>\n",
       "      <th></th>\n",
       "      <th></th>\n",
       "      <th></th>\n",
       "      <th></th>\n",
       "      <th></th>\n",
       "      <th></th>\n",
       "      <th></th>\n",
       "      <th></th>\n",
       "      <th></th>\n",
       "      <th></th>\n",
       "      <th></th>\n",
       "      <th></th>\n",
       "    </tr>\n",
       "  </thead>\n",
       "  <tbody>\n",
       "    <tr>\n",
       "      <th>0.0</th>\n",
       "      <td>4543</td>\n",
       "      <td>114</td>\n",
       "      <td>42</td>\n",
       "      <td>16</td>\n",
       "      <td>6</td>\n",
       "      <td>12</td>\n",
       "      <td>8</td>\n",
       "      <td>0</td>\n",
       "      <td>1</td>\n",
       "      <td>181</td>\n",
       "      <td>...</td>\n",
       "      <td>85</td>\n",
       "      <td>2</td>\n",
       "      <td>11</td>\n",
       "      <td>97</td>\n",
       "      <td>14</td>\n",
       "      <td>1</td>\n",
       "      <td>4</td>\n",
       "      <td>13</td>\n",
       "      <td>118</td>\n",
       "      <td>83</td>\n",
       "    </tr>\n",
       "    <tr>\n",
       "      <th>1.0</th>\n",
       "      <td>2224</td>\n",
       "      <td>33</td>\n",
       "      <td>4</td>\n",
       "      <td>5</td>\n",
       "      <td>0</td>\n",
       "      <td>0</td>\n",
       "      <td>0</td>\n",
       "      <td>1</td>\n",
       "      <td>0</td>\n",
       "      <td>52</td>\n",
       "      <td>...</td>\n",
       "      <td>26</td>\n",
       "      <td>0</td>\n",
       "      <td>5</td>\n",
       "      <td>13</td>\n",
       "      <td>0</td>\n",
       "      <td>0</td>\n",
       "      <td>1</td>\n",
       "      <td>1</td>\n",
       "      <td>78</td>\n",
       "      <td>2</td>\n",
       "    </tr>\n",
       "  </tbody>\n",
       "</table>\n",
       "<p>2 rows × 32 columns</p>\n",
       "</div>"
      ],
      "text/plain": [
       "target     -    A  AK   B  C  C|I  D  D|R  E    F  ...   M  MI  MK   N   O  \\\n",
       "sex                                                ...                       \n",
       "0.0     4543  114  42  16  6   12  8    0  1  181  ...  85   2  11  97  14   \n",
       "1.0     2224   33   4   5  0    0  0    1  0   52  ...  26   0   5  13   0   \n",
       "\n",
       "target  OI  P   Q    R   S  \n",
       "sex                         \n",
       "0.0      1  4  13  118  83  \n",
       "1.0      0  1   1   78   2  \n",
       "\n",
       "[2 rows x 32 columns]"
      ]
     },
     "execution_count": 319,
     "metadata": {},
     "output_type": "execute_result"
    }
   ],
   "source": [
    "gender_effect"
   ]
  },
  {
   "cell_type": "code",
   "execution_count": 320,
   "id": "c68da777",
   "metadata": {},
   "outputs": [
    {
     "data": {
      "text/plain": [
       "array([[4543,  114,   42,   16,    6,   12,    8,    0,    1,  181,    6,\n",
       "         279,    9,   36,    1,    6,  316,   15,  258,    8,   93,    0,\n",
       "          85,    2,   11,   97,   14,    1,    4,   13,  118,   83],\n",
       "       [2224,   33,    4,    5,    0,    0,    0,    1,    0,   52,    0,\n",
       "          80,    1,   13,    0,    2,   30,   15,  178,    3,   22,    1,\n",
       "          26,    0,    5,   13,    0,    0,    1,    1,   78,    2]],\n",
       "      dtype=int64)"
      ]
     },
     "execution_count": 320,
     "metadata": {},
     "output_type": "execute_result"
    }
   ],
   "source": [
    "observed=gender_effect.values\n",
    "observed"
   ]
  },
  {
   "cell_type": "code",
   "execution_count": 321,
   "id": "cfd7ab63",
   "metadata": {},
   "outputs": [],
   "source": [
    "val=stats.chi2_contingency(gender_effect)"
   ]
  },
  {
   "cell_type": "code",
   "execution_count": 322,
   "id": "316796db",
   "metadata": {},
   "outputs": [],
   "source": [
    "expected=val[3]"
   ]
  },
  {
   "cell_type": "code",
   "execution_count": 323,
   "id": "f09e251d",
   "metadata": {},
   "outputs": [],
   "source": [
    "r=len(gender_effect)\n",
    "c=len(gender_effect.iloc[0])\n",
    "deg_of_f = (r-1)*(c-1)\n",
    "alpha=0.05"
   ]
  },
  {
   "cell_type": "code",
   "execution_count": 324,
   "id": "6977dd66",
   "metadata": {},
   "outputs": [],
   "source": [
    "from scipy.stats import chi2\n",
    "chi_square=sum([(o-e)**2./e for o,e in zip(observed,expected)])\n",
    "chi_square_statistic=chi_square[0]+chi_square[1]\n",
    "     "
   ]
  },
  {
   "cell_type": "code",
   "execution_count": 325,
   "id": "340913a8",
   "metadata": {},
   "outputs": [
    {
     "data": {
      "text/plain": [
       "0.8360465382088247"
      ]
     },
     "execution_count": 325,
     "metadata": {},
     "output_type": "execute_result"
    }
   ],
   "source": [
    "p_value=1-chi2.cdf(x=chi_square_statistic,df=deg_of_f)\n",
    "p_value"
   ]
  },
  {
   "cell_type": "code",
   "execution_count": 326,
   "id": "4e2d3467",
   "metadata": {},
   "outputs": [
    {
     "name": "stdout",
     "output_type": "stream",
     "text": [
      "Retain H0,There is no relationship between 2 categorical variables\n"
     ]
    }
   ],
   "source": [
    "if p_value<=alpha:\n",
    "    print(\"Reject H0,There is a relationship between 2 categorical variables\")\n",
    "else:\n",
    "    print(\"Retain H0,There is no relationship between 2 categorical variables\")\n",
    "     "
   ]
  },
  {
   "cell_type": "code",
   "execution_count": 327,
   "id": "297fd586",
   "metadata": {},
   "outputs": [
    {
     "data": {
      "image/png": "[encoded data removed]",
      "text/plain": [
       "<Figure size 640x480 with 1 Axes>"
      ]
     },
     "metadata": {},
     "output_type": "display_data"
    }
   ],
   "source": [
    "import matplotlib.pyplot as plt\n",
    "ax = sns.boxplot(x=x['age'])\n",
    "plt.xlabel(\"age\", labelpad=14);"
   ]
  },
  {
   "cell_type": "code",
   "execution_count": 328,
   "id": "35704792",
   "metadata": {},
   "outputs": [
    {
     "data": {
      "text/plain": [
       "(array([ 29.,  20., 115., 296., 361., 595., 597., 672., 594., 488., 619.,\n",
       "        879., 974., 783., 714., 753., 393., 222.,  49.,  15.]),\n",
       " array([ 1. ,  5.8, 10.6, 15.4, 20.2, 25. , 29.8, 34.6, 39.4, 44.2, 49. ,\n",
       "        53.8, 58.6, 63.4, 68.2, 73. , 77.8, 82.6, 87.4, 92.2, 97. ]),\n",
       " <BarContainer object of 20 artists>)"
      ]
     },
     "execution_count": 328,
     "metadata": {},
     "output_type": "execute_result"
    },
    {
     "data": {
      "image/png": "[encoded data removed]",
      "text/plain": [
       "<Figure size 640x480 with 1 Axes>"
      ]
     },
     "metadata": {},
     "output_type": "display_data"
    }
   ],
   "source": [
    "plt.hist(x['age'], bins=20)\n",
    "\n"
   ]
  },
  {
   "cell_type": "code",
   "execution_count": 329,
   "id": "93f567d5",
   "metadata": {},
   "outputs": [
    {
     "data": {
      "text/plain": [
       "<AxesSubplot:>"
      ]
     },
     "execution_count": 329,
     "metadata": {},
     "output_type": "execute_result"
    },
    {
     "data": {
      "image/png": "[encoded data removed]",
      "text/plain": [
       "<Figure size 640x480 with 2 Axes>"
      ]
     },
     "metadata": {},
     "output_type": "display_data"
    }
   ],
   "source": [
    "sns.heatmap(x.corr())"
   ]
  },
  {
   "cell_type": "code",
   "execution_count": 330,
   "id": "a65872a0",
   "metadata": {},
   "outputs": [],
   "source": [
    "from sklearn.feature_selection import VarianceThreshold\n",
    "constant_filter = VarianceThreshold(threshold=0)"
   ]
  },
  {
   "cell_type": "code",
   "execution_count": 331,
   "id": "bba9e1c4",
   "metadata": {},
   "outputs": [
    {
     "name": "stdout",
     "output_type": "stream",
     "text": [
      "(9168, 29)\n"
     ]
    }
   ],
   "source": [
    "data_constant = constant_filter.fit_transform(x)\n",
    "print(data_constant.shape)\n"
   ]
  },
  {
   "cell_type": "code",
   "execution_count": 332,
   "id": "273e2cb4",
   "metadata": {},
   "outputs": [],
   "source": [
    "constant_columns = [column for column in x.columns\n",
    "                    if column not in x.columns[constant_filter.get_support()]]\n"
   ]
  },
  {
   "cell_type": "code",
   "execution_count": 334,
   "id": "b2088f4d",
   "metadata": {},
   "outputs": [],
   "source": [
    "for column in constant_columns:\n",
    "    print(column)\n"
   ]
  },
  {
   "cell_type": "code",
   "execution_count": 335,
   "id": "fe7c935e",
   "metadata": {},
   "outputs": [],
   "source": [
    "#remove referrals source\n",
    "x.drop('referral_source', axis=1,inplace=True)"
   ]
  },
  {
   "cell_type": "code",
   "execution_count": 336,
   "id": "da6b1f58",
   "metadata": {},
   "outputs": [],
   "source": [
    "qcons_filter = VarianceThreshold(threshold=0.01)\n"
   ]
  },
  {
   "cell_type": "code",
   "execution_count": 337,
   "id": "c8d8c08a",
   "metadata": {},
   "outputs": [
    {
     "name": "stdout",
     "output_type": "stream",
     "text": [
      "(9168, 26)\n"
     ]
    }
   ],
   "source": [
    "data_qcons = qcons_filter.fit_transform(x)\n",
    "print(data_qcons.shape)"
   ]
  },
  {
   "cell_type": "code",
   "execution_count": 338,
   "id": "97e8aeb8",
   "metadata": {},
   "outputs": [],
   "source": [
    "qcons_columns = [column for column in x.columns\n",
    "                    if column not in x.columns[qcons_filter.get_support()]]\n"
   ]
  },
  {
   "cell_type": "code",
   "execution_count": 339,
   "id": "879088c8",
   "metadata": {},
   "outputs": [
    {
     "name": "stdout",
     "output_type": "stream",
     "text": [
      "goitre\n",
      "hypopituitary\n"
     ]
    }
   ],
   "source": [
    "for column in qcons_columns:\n",
    "    print(column)"
   ]
  },
  {
   "cell_type": "code",
   "execution_count": 340,
   "id": "b8dadeb7",
   "metadata": {},
   "outputs": [],
   "source": [
    "#removing quasi similar features\n",
    "x_fil = x.drop(['goitre', 'hypopituitary'],axis=1)"
   ]
  },
  {
   "cell_type": "code",
   "execution_count": 137,
   "id": "739ae48e",
   "metadata": {},
   "outputs": [],
   "source": [
    "from sklearn.model_selection import train_test_split\n",
    "x_train, x_test, y_train, y_test = train_test_split(x,y, test_size=0.25, random_state=42)"
   ]
  },
  {
   "cell_type": "code",
   "execution_count": 138,
   "id": "2012583f",
   "metadata": {},
   "outputs": [
    {
     "data": {
      "text/html": [
       "<div>\n",
       "<style scoped>\n",
       "    .dataframe tbody tr th:only-of-type {\n",
       "        vertical-align: middle;\n",
       "    }\n",
       "\n",
       "    .dataframe tbody tr th {\n",
       "        vertical-align: top;\n",
       "    }\n",
       "\n",
       "    .dataframe thead th {\n",
       "        text-align: right;\n",
       "    }\n",
       "</style>\n",
       "<table border=\"1\" class=\"dataframe\">\n",
       "  <thead>\n",
       "    <tr style=\"text-align: right;\">\n",
       "      <th></th>\n",
       "      <th>age</th>\n",
       "      <th>sex</th>\n",
       "      <th>on_thyroxine</th>\n",
       "      <th>query_on_thyroxine</th>\n",
       "      <th>on_antithyroid_meds</th>\n",
       "      <th>sick</th>\n",
       "      <th>pregnant</th>\n",
       "      <th>thyroid_surgery</th>\n",
       "      <th>I131_treatment</th>\n",
       "      <th>query_hypothyroid</th>\n",
       "      <th>...</th>\n",
       "      <th>T3</th>\n",
       "      <th>TT4_measured</th>\n",
       "      <th>TT4</th>\n",
       "      <th>T4U_measured</th>\n",
       "      <th>T4U</th>\n",
       "      <th>FTI_measured</th>\n",
       "      <th>FTI</th>\n",
       "      <th>TBG_measured</th>\n",
       "      <th>TBG</th>\n",
       "      <th>referral_source</th>\n",
       "    </tr>\n",
       "  </thead>\n",
       "  <tbody>\n",
       "    <tr>\n",
       "      <th>2952</th>\n",
       "      <td>43</td>\n",
       "      <td>0.0</td>\n",
       "      <td>0</td>\n",
       "      <td>0</td>\n",
       "      <td>0</td>\n",
       "      <td>0</td>\n",
       "      <td>0</td>\n",
       "      <td>0</td>\n",
       "      <td>0</td>\n",
       "      <td>0</td>\n",
       "      <td>...</td>\n",
       "      <td>1.3</td>\n",
       "      <td>1</td>\n",
       "      <td>136</td>\n",
       "      <td>1</td>\n",
       "      <td>0.97</td>\n",
       "      <td>1</td>\n",
       "      <td>140</td>\n",
       "      <td>0</td>\n",
       "      <td>0</td>\n",
       "      <td>1</td>\n",
       "    </tr>\n",
       "    <tr>\n",
       "      <th>7223</th>\n",
       "      <td>54</td>\n",
       "      <td>0.0</td>\n",
       "      <td>0</td>\n",
       "      <td>0</td>\n",
       "      <td>0</td>\n",
       "      <td>1</td>\n",
       "      <td>0</td>\n",
       "      <td>1</td>\n",
       "      <td>0</td>\n",
       "      <td>0</td>\n",
       "      <td>...</td>\n",
       "      <td>2.3</td>\n",
       "      <td>1</td>\n",
       "      <td>161</td>\n",
       "      <td>1</td>\n",
       "      <td>1.04</td>\n",
       "      <td>1</td>\n",
       "      <td>155</td>\n",
       "      <td>0</td>\n",
       "      <td>0</td>\n",
       "      <td>4</td>\n",
       "    </tr>\n",
       "    <tr>\n",
       "      <th>3063</th>\n",
       "      <td>83</td>\n",
       "      <td>0.0</td>\n",
       "      <td>0</td>\n",
       "      <td>0</td>\n",
       "      <td>0</td>\n",
       "      <td>0</td>\n",
       "      <td>0</td>\n",
       "      <td>0</td>\n",
       "      <td>0</td>\n",
       "      <td>0</td>\n",
       "      <td>...</td>\n",
       "      <td>1.3</td>\n",
       "      <td>1</td>\n",
       "      <td>100</td>\n",
       "      <td>1</td>\n",
       "      <td>0.86</td>\n",
       "      <td>1</td>\n",
       "      <td>117</td>\n",
       "      <td>0</td>\n",
       "      <td>0</td>\n",
       "      <td>1</td>\n",
       "    </tr>\n",
       "    <tr>\n",
       "      <th>2223</th>\n",
       "      <td>74</td>\n",
       "      <td>1.0</td>\n",
       "      <td>0</td>\n",
       "      <td>0</td>\n",
       "      <td>0</td>\n",
       "      <td>0</td>\n",
       "      <td>0</td>\n",
       "      <td>0</td>\n",
       "      <td>0</td>\n",
       "      <td>0</td>\n",
       "      <td>...</td>\n",
       "      <td>2</td>\n",
       "      <td>1</td>\n",
       "      <td>113</td>\n",
       "      <td>1</td>\n",
       "      <td>0.97</td>\n",
       "      <td>1</td>\n",
       "      <td>116</td>\n",
       "      <td>0</td>\n",
       "      <td>0</td>\n",
       "      <td>1</td>\n",
       "    </tr>\n",
       "    <tr>\n",
       "      <th>100</th>\n",
       "      <td>38</td>\n",
       "      <td>1.0</td>\n",
       "      <td>0</td>\n",
       "      <td>0</td>\n",
       "      <td>0</td>\n",
       "      <td>0</td>\n",
       "      <td>0</td>\n",
       "      <td>0</td>\n",
       "      <td>0</td>\n",
       "      <td>0</td>\n",
       "      <td>...</td>\n",
       "      <td>1.9</td>\n",
       "      <td>1</td>\n",
       "      <td>308</td>\n",
       "      <td>1</td>\n",
       "      <td>0.87</td>\n",
       "      <td>1</td>\n",
       "      <td>354</td>\n",
       "      <td>0</td>\n",
       "      <td>0</td>\n",
       "      <td>0</td>\n",
       "    </tr>\n",
       "    <tr>\n",
       "      <th>...</th>\n",
       "      <td>...</td>\n",
       "      <td>...</td>\n",
       "      <td>...</td>\n",
       "      <td>...</td>\n",
       "      <td>...</td>\n",
       "      <td>...</td>\n",
       "      <td>...</td>\n",
       "      <td>...</td>\n",
       "      <td>...</td>\n",
       "      <td>...</td>\n",
       "      <td>...</td>\n",
       "      <td>...</td>\n",
       "      <td>...</td>\n",
       "      <td>...</td>\n",
       "      <td>...</td>\n",
       "      <td>...</td>\n",
       "      <td>...</td>\n",
       "      <td>...</td>\n",
       "      <td>...</td>\n",
       "      <td>...</td>\n",
       "      <td>...</td>\n",
       "    </tr>\n",
       "    <tr>\n",
       "      <th>5734</th>\n",
       "      <td>47</td>\n",
       "      <td>1.0</td>\n",
       "      <td>1</td>\n",
       "      <td>0</td>\n",
       "      <td>0</td>\n",
       "      <td>0</td>\n",
       "      <td>0</td>\n",
       "      <td>0</td>\n",
       "      <td>0</td>\n",
       "      <td>0</td>\n",
       "      <td>...</td>\n",
       "      <td>1.9</td>\n",
       "      <td>1</td>\n",
       "      <td>123</td>\n",
       "      <td>1</td>\n",
       "      <td>1.02</td>\n",
       "      <td>1</td>\n",
       "      <td>120</td>\n",
       "      <td>0</td>\n",
       "      <td>0</td>\n",
       "      <td>0</td>\n",
       "    </tr>\n",
       "    <tr>\n",
       "      <th>5191</th>\n",
       "      <td>89</td>\n",
       "      <td>0.0</td>\n",
       "      <td>0</td>\n",
       "      <td>0</td>\n",
       "      <td>0</td>\n",
       "      <td>0</td>\n",
       "      <td>0</td>\n",
       "      <td>0</td>\n",
       "      <td>0</td>\n",
       "      <td>0</td>\n",
       "      <td>...</td>\n",
       "      <td>1.8</td>\n",
       "      <td>1</td>\n",
       "      <td>86</td>\n",
       "      <td>1</td>\n",
       "      <td>1.04</td>\n",
       "      <td>1</td>\n",
       "      <td>83</td>\n",
       "      <td>0</td>\n",
       "      <td>0</td>\n",
       "      <td>0</td>\n",
       "    </tr>\n",
       "    <tr>\n",
       "      <th>5390</th>\n",
       "      <td>48</td>\n",
       "      <td>0.0</td>\n",
       "      <td>0</td>\n",
       "      <td>0</td>\n",
       "      <td>0</td>\n",
       "      <td>0</td>\n",
       "      <td>0</td>\n",
       "      <td>0</td>\n",
       "      <td>0</td>\n",
       "      <td>0</td>\n",
       "      <td>...</td>\n",
       "      <td>0.9</td>\n",
       "      <td>1</td>\n",
       "      <td>105</td>\n",
       "      <td>1</td>\n",
       "      <td>0.61</td>\n",
       "      <td>1</td>\n",
       "      <td>173</td>\n",
       "      <td>0</td>\n",
       "      <td>0</td>\n",
       "      <td>1</td>\n",
       "    </tr>\n",
       "    <tr>\n",
       "      <th>860</th>\n",
       "      <td>77</td>\n",
       "      <td>0.0</td>\n",
       "      <td>0</td>\n",
       "      <td>0</td>\n",
       "      <td>0</td>\n",
       "      <td>0</td>\n",
       "      <td>0</td>\n",
       "      <td>0</td>\n",
       "      <td>0</td>\n",
       "      <td>1</td>\n",
       "      <td>...</td>\n",
       "      <td>1.4</td>\n",
       "      <td>1</td>\n",
       "      <td>134</td>\n",
       "      <td>1</td>\n",
       "      <td>1.09</td>\n",
       "      <td>1</td>\n",
       "      <td>123</td>\n",
       "      <td>0</td>\n",
       "      <td>0</td>\n",
       "      <td>0</td>\n",
       "    </tr>\n",
       "    <tr>\n",
       "      <th>7270</th>\n",
       "      <td>52</td>\n",
       "      <td>0.0</td>\n",
       "      <td>0</td>\n",
       "      <td>0</td>\n",
       "      <td>0</td>\n",
       "      <td>0</td>\n",
       "      <td>0</td>\n",
       "      <td>1</td>\n",
       "      <td>1</td>\n",
       "      <td>0</td>\n",
       "      <td>...</td>\n",
       "      <td>1.9</td>\n",
       "      <td>1</td>\n",
       "      <td>2.5</td>\n",
       "      <td>1</td>\n",
       "      <td>1.19</td>\n",
       "      <td>1</td>\n",
       "      <td>2.5</td>\n",
       "      <td>0</td>\n",
       "      <td>0</td>\n",
       "      <td>0</td>\n",
       "    </tr>\n",
       "  </tbody>\n",
       "</table>\n",
       "<p>6879 rows × 29 columns</p>\n",
       "</div>"
      ],
      "text/plain": [
       "      age  sex  on_thyroxine  query_on_thyroxine  on_antithyroid_meds  sick  \\\n",
       "2952   43  0.0             0                   0                    0     0   \n",
       "7223   54  0.0             0                   0                    0     1   \n",
       "3063   83  0.0             0                   0                    0     0   \n",
       "2223   74  1.0             0                   0                    0     0   \n",
       "100    38  1.0             0                   0                    0     0   \n",
       "...   ...  ...           ...                 ...                  ...   ...   \n",
       "5734   47  1.0             1                   0                    0     0   \n",
       "5191   89  0.0             0                   0                    0     0   \n",
       "5390   48  0.0             0                   0                    0     0   \n",
       "860    77  0.0             0                   0                    0     0   \n",
       "7270   52  0.0             0                   0                    0     0   \n",
       "\n",
       "      pregnant  thyroid_surgery  I131_treatment  query_hypothyroid  ...   T3  \\\n",
       "2952         0                0               0                  0  ...  1.3   \n",
       "7223         0                1               0                  0  ...  2.3   \n",
       "3063         0                0               0                  0  ...  1.3   \n",
       "2223         0                0               0                  0  ...    2   \n",
       "100          0                0               0                  0  ...  1.9   \n",
       "...        ...              ...             ...                ...  ...  ...   \n",
       "5734         0                0               0                  0  ...  1.9   \n",
       "5191         0                0               0                  0  ...  1.8   \n",
       "5390         0                0               0                  0  ...  0.9   \n",
       "860          0                0               0                  1  ...  1.4   \n",
       "7270         0                1               1                  0  ...  1.9   \n",
       "\n",
       "      TT4_measured  TT4  T4U_measured   T4U  FTI_measured  FTI TBG_measured  \\\n",
       "2952             1  136             1  0.97             1  140            0   \n",
       "7223             1  161             1  1.04             1  155            0   \n",
       "3063             1  100             1  0.86             1  117            0   \n",
       "2223             1  113             1  0.97             1  116            0   \n",
       "100              1  308             1  0.87             1  354            0   \n",
       "...            ...  ...           ...   ...           ...  ...          ...   \n",
       "5734             1  123             1  1.02             1  120            0   \n",
       "5191             1   86             1  1.04             1   83            0   \n",
       "5390             1  105             1  0.61             1  173            0   \n",
       "860              1  134             1  1.09             1  123            0   \n",
       "7270             1  2.5             1  1.19             1  2.5            0   \n",
       "\n",
       "      TBG referral_source  \n",
       "2952    0               1  \n",
       "7223    0               4  \n",
       "3063    0               1  \n",
       "2223    0               1  \n",
       "100     0               0  \n",
       "...   ...             ...  \n",
       "5734    0               0  \n",
       "5191    0               0  \n",
       "5390    0               1  \n",
       "860     0               0  \n",
       "7270    0               0  \n",
       "\n",
       "[6879 rows x 29 columns]"
      ]
     },
     "execution_count": 138,
     "metadata": {},
     "output_type": "execute_result"
    }
   ],
   "source": [
    "x_train"
   ]
  },
  {
   "cell_type": "code",
   "execution_count": 130,
   "id": "b029a100",
   "metadata": {},
   "outputs": [
    {
     "data": {
      "text/plain": [
       "2952    -\n",
       "7223    -\n",
       "3063    -\n",
       "2223    -\n",
       "100     A\n",
       "       ..\n",
       "5734    -\n",
       "5191    -\n",
       "5390    -\n",
       "860     G\n",
       "7270    F\n",
       "Name: target, Length: 6879, dtype: object"
      ]
     },
     "execution_count": 130,
     "metadata": {},
     "output_type": "execute_result"
    }
   ],
   "source": [
    "y_train\n"
   ]
  },
  {
   "cell_type": "code",
   "execution_count": 131,
   "id": "413c0966",
   "metadata": {},
   "outputs": [],
   "source": [
    "from sklearn.linear_model import LogisticRegression"
   ]
  },
  {
   "cell_type": "code",
   "execution_count": 132,
   "id": "5cc9a8dc",
   "metadata": {},
   "outputs": [],
   "source": [
    "model=LogisticRegression()"
   ]
  },
  {
   "cell_type": "code",
   "execution_count": 139,
   "id": "6c439960",
   "metadata": {},
   "outputs": [
    {
     "name": "stderr",
     "output_type": "stream",
     "text": [
      "C:\\Users\\mindstix\\anaconda3\\lib\\site-packages\\sklearn\\linear_model\\_logistic.py:814: ConvergenceWarning: lbfgs failed to converge (status=1):\n",
      "STOP: TOTAL NO. of ITERATIONS REACHED LIMIT.\n",
      "\n",
      "Increase the number of iterations (max_iter) or scale the data as shown in:\n",
      "    https://scikit-learn.org/stable/modules/preprocessing.html\n",
      "Please also refer to the documentation for alternative solver options:\n",
      "    https://scikit-learn.org/stable/modules/linear_model.html#logistic-regression\n",
      "  n_iter_i = _check_optimize_result(\n"
     ]
    },
    {
     "data": {
      "text/plain": [
       "LogisticRegression()"
      ]
     },
     "execution_count": 139,
     "metadata": {},
     "output_type": "execute_result"
    }
   ],
   "source": [
    "model.fit(x_train, y_train)"
   ]
  },
  {
   "cell_type": "code",
   "execution_count": 153,
   "id": "ee5d636b",
   "metadata": {},
   "outputs": [],
   "source": [
    "from sklearn.svm import SVC\n",
    "svm_classifier=SVC(kernel='rbf')\n",
    "svm_classifier.fit(x_train,y_train)\n",
    "y_pred=svm_classifier.predict(x_test)"
   ]
  },
  {
   "cell_type": "code",
   "execution_count": 155,
   "id": "69d080d4",
   "metadata": {},
   "outputs": [
    {
     "name": "stdout",
     "output_type": "stream",
     "text": [
      "0.7400784997819451\n"
     ]
    }
   ],
   "source": [
    "from sklearn.metrics import confusion_matrix, accuracy_score\n",
    "cm=confusion_matrix(y_test,y_pred)\n",
    "acc=accuracy_score(y_test,y_pred)\n",
    "print(acc)"
   ]
  },
  {
   "cell_type": "code",
   "execution_count": 156,
   "id": "dbb4a612",
   "metadata": {},
   "outputs": [],
   "source": [
    "from sklearn.ensemble import RandomForestClassifier\n",
    "rf_classifier=RandomForestClassifier()\n",
    "rf_classifier.fit(x_train,y_train)\n",
    "y_pred_rf=rf_classifier.predict(x_test)\n",
    "\n"
   ]
  },
  {
   "cell_type": "code",
   "execution_count": null,
   "id": "a8f2c655",
   "metadata": {},
   "outputs": [],
   "source": [
    "rf_classifier.get_params()"
   ]
  },
  {
   "cell_type": "code",
   "execution_count": 157,
   "id": "5d84c9ea",
   "metadata": {},
   "outputs": [
    {
     "name": "stdout",
     "output_type": "stream",
     "text": [
      "0.9393807239424335\n"
     ]
    }
   ],
   "source": [
    "from sklearn.metrics import confusion_matrix, accuracy_score\n",
    "cm=confusion_matrix(y_test,y_pred_rf)\n",
    "acc=accuracy_score(y_test,y_pred_rf)\n",
    "print(acc)"
   ]
  },
  {
   "cell_type": "code",
   "execution_count": 158,
   "id": "b5e78f04",
   "metadata": {},
   "outputs": [],
   "source": [
    "params={'bootstrap': [True, False],\n",
    " 'max_depth': [10, 20, 30, 40, 50, 60, 70, 80, 90, 100, None],\n",
    " 'max_features': ['auto', 'sqrt'],\n",
    " 'min_samples_leaf': [1, 2, 4],\n",
    " 'min_samples_split': [2, 5, 10],\n",
    " 'n_estimators': [200, 400, 600, 800, 1000, 1200, 1400, 1600, 1800, 2000]}"
   ]
  },
  {
   "cell_type": "code",
   "execution_count": 161,
   "id": "fcd8c844",
   "metadata": {},
   "outputs": [
    {
     "name": "stdout",
     "output_type": "stream",
     "text": [
      "Fitting 3 folds for each of 100 candidates, totalling 300 fits\n"
     ]
    },
    {
     "name": "stderr",
     "output_type": "stream",
     "text": [
      "C:\\Users\\mindstix\\anaconda3\\lib\\site-packages\\sklearn\\model_selection\\_split.py:676: UserWarning: The least populated class in y has only 1 members, which is less than n_splits=3.\n",
      "  warnings.warn(\n"
     ]
    },
    {
     "data": {
      "text/plain": [
       "RandomizedSearchCV(cv=3, estimator=RandomForestClassifier(), n_iter=100,\n",
       "                   n_jobs=-1,\n",
       "                   param_distributions={'bootstrap': [True, False],\n",
       "                                        'max_depth': [10, 20, 30, 40, 50, 60,\n",
       "                                                      70, 80, 90, 100, None],\n",
       "                                        'max_features': ['auto', 'sqrt'],\n",
       "                                        'min_samples_leaf': [1, 2, 4],\n",
       "                                        'min_samples_split': [2, 5, 10],\n",
       "                                        'n_estimators': [200, 400, 600, 800,\n",
       "                                                         1000, 1200, 1400, 1600,\n",
       "                                                         1800, 2000]},\n",
       "                   random_state=42, verbose=2)"
      ]
     },
     "execution_count": 161,
     "metadata": {},
     "output_type": "execute_result"
    }
   ],
   "source": [
    "from sklearn.model_selection import RandomizedSearchCV\n",
    "rf = RandomForestClassifier()\n",
    "# Random search of parameters, using 3 fold cross validation, \n",
    "# search across 100 different combinations, and use all available cores\n",
    "rf_random = RandomizedSearchCV(estimator = rf, param_distributions = params, n_iter = 100, cv = 3, verbose=2, random_state=42, n_jobs = -1)\n",
    "# Fit the random search model\n",
    "rf_random.fit(x_train, y_train)"
   ]
  },
  {
   "cell_type": "code",
   "execution_count": 164,
   "id": "04d472ca",
   "metadata": {},
   "outputs": [
    {
     "name": "stdout",
     "output_type": "stream",
     "text": [
      "0.9424334932402966\n"
     ]
    }
   ],
   "source": [
    "y_pred_rfrandom=rf_random.predict(x_test)\n",
    "acc=accuracy_score(y_test,y_pred_rfrandom)\n",
    "print(acc)\n"
   ]
  },
  {
   "cell_type": "code",
   "execution_count": 165,
   "id": "5c31a0f1",
   "metadata": {},
   "outputs": [
    {
     "data": {
      "text/plain": [
       "{'n_estimators': 200,\n",
       " 'min_samples_split': 2,\n",
       " 'min_samples_leaf': 1,\n",
       " 'max_features': 'sqrt',\n",
       " 'max_depth': None,\n",
       " 'bootstrap': False}"
      ]
     },
     "execution_count": 165,
     "metadata": {},
     "output_type": "execute_result"
    }
   ],
   "source": [
    "rf_random.best_params_\n"
   ]
  },
  {
   "cell_type": "code",
   "execution_count": 166,
   "id": "c49775e5",
   "metadata": {},
   "outputs": [
    {
     "data": {
      "text/plain": [
       "{'bootstrap': True,\n",
       " 'ccp_alpha': 0.0,\n",
       " 'class_weight': None,\n",
       " 'criterion': 'gini',\n",
       " 'max_depth': None,\n",
       " 'max_features': 'auto',\n",
       " 'max_leaf_nodes': None,\n",
       " 'max_samples': None,\n",
       " 'min_impurity_decrease': 0.0,\n",
       " 'min_samples_leaf': 1,\n",
       " 'min_samples_split': 2,\n",
       " 'min_weight_fraction_leaf': 0.0,\n",
       " 'n_estimators': 100,\n",
       " 'n_jobs': None,\n",
       " 'oob_score': False,\n",
       " 'random_state': None,\n",
       " 'verbose': 0,\n",
       " 'warm_start': False}"
      ]
     },
     "execution_count": 166,
     "metadata": {},
     "output_type": "execute_result"
    }
   ],
   "source": [
    "rf_classifier.get_params()"
   ]
  },
  {
   "cell_type": "code",
   "execution_count": 167,
   "id": "1b54a278",
   "metadata": {},
   "outputs": [
    {
     "name": "stderr",
     "output_type": "stream",
     "text": [
      "C:\\Users\\mindstix\\anaconda3\\lib\\site-packages\\sklearn\\neighbors\\_classification.py:228: FutureWarning: Unlike other reduction functions (e.g. `skew`, `kurtosis`), the default behavior of `mode` typically preserves the axis it acts along. In SciPy 1.11.0, this behavior will change: the default value of `keepdims` will become False, the `axis` over which the statistic is taken will be eliminated, and the value None will no longer be accepted. Set `keepdims` to True or False to avoid this warning.\n",
      "  mode, _ = stats.mode(_y[neigh_ind, k], axis=1)\n"
     ]
    }
   ],
   "source": [
    "from sklearn.neighbors import KNeighborsClassifier\n",
    "neigh = KNeighborsClassifier(n_neighbors=3)\n",
    "knnclf = neigh.fit(x_train,y_train)\n",
    "y_predk = knnclf.predict(x_test)\n"
   ]
  },
  {
   "cell_type": "code",
   "execution_count": 168,
   "id": "b4f17dbb",
   "metadata": {},
   "outputs": [
    {
     "name": "stdout",
     "output_type": "stream",
     "text": [
      "0.7828172699520279\n"
     ]
    }
   ],
   "source": [
    "acc=accuracy_score(y_test,y_predk)\n",
    "print(acc)\n"
   ]
  },
  {
   "cell_type": "code",
   "execution_count": 169,
   "id": "5f36ee01",
   "metadata": {},
   "outputs": [
    {
     "name": "stderr",
     "output_type": "stream",
     "text": [
      "C:\\Users\\mindstix\\anaconda3\\lib\\site-packages\\sklearn\\linear_model\\_logistic.py:814: ConvergenceWarning: lbfgs failed to converge (status=1):\n",
      "STOP: TOTAL NO. of ITERATIONS REACHED LIMIT.\n",
      "\n",
      "Increase the number of iterations (max_iter) or scale the data as shown in:\n",
      "    https://scikit-learn.org/stable/modules/preprocessing.html\n",
      "Please also refer to the documentation for alternative solver options:\n",
      "    https://scikit-learn.org/stable/modules/linear_model.html#logistic-regression\n",
      "  n_iter_i = _check_optimize_result(\n"
     ]
    },
    {
     "data": {
      "text/plain": [
       "0.7400784997819451"
      ]
     },
     "execution_count": 169,
     "metadata": {},
     "output_type": "execute_result"
    }
   ],
   "source": [
    "from sklearn.linear_model import LogisticRegression\n",
    "lr = LogisticRegression(max_iter=1000)\n",
    "lrclf = lr.fit(x_train,y_train)\n",
    "y_predlr = lrclf.predict(x_test)\n",
    "accuracy_score(y_pred,y_test)\n"
   ]
  },
  {
   "cell_type": "code",
   "execution_count": 341,
   "id": "ae95a2d3",
   "metadata": {},
   "outputs": [],
   "source": [
    "from sklearn.model_selection import train_test_split\n",
    "x_train, x_test, y_train, y_test = train_test_split(x_fil,y, test_size=0.25, random_state=42)"
   ]
  },
  {
   "cell_type": "code",
   "execution_count": 342,
   "id": "197f88ef",
   "metadata": {},
   "outputs": [
    {
     "name": "stderr",
     "output_type": "stream",
     "text": [
      "C:\\Users\\mindstix\\anaconda3\\lib\\site-packages\\sklearn\\linear_model\\_logistic.py:814: ConvergenceWarning: lbfgs failed to converge (status=1):\n",
      "STOP: TOTAL NO. of ITERATIONS REACHED LIMIT.\n",
      "\n",
      "Increase the number of iterations (max_iter) or scale the data as shown in:\n",
      "    https://scikit-learn.org/stable/modules/preprocessing.html\n",
      "Please also refer to the documentation for alternative solver options:\n",
      "    https://scikit-learn.org/stable/modules/linear_model.html#logistic-regression\n",
      "  n_iter_i = _check_optimize_result(\n"
     ]
    },
    {
     "data": {
      "text/plain": [
       "0.8398778359511344"
      ]
     },
     "execution_count": 342,
     "metadata": {},
     "output_type": "execute_result"
    }
   ],
   "source": [
    "from sklearn.linear_model import LogisticRegression\n",
    "lr_fil = LogisticRegression(max_iter=1000)\n",
    "lrclff= lr_fil.fit(x_train,y_train)\n",
    "y_predlrf = lrclff.predict(x_test)\n",
    "accuracy_score(y_predlrf,y_test)"
   ]
  },
  {
   "cell_type": "code",
   "execution_count": 351,
   "id": "38e3d99f",
   "metadata": {},
   "outputs": [],
   "source": [
    "from sklearn.preprocessing import LabelEncoder\n",
    "labelencoder = LabelEncoder()\n",
    "X_en= x['target'].values\n",
    "X_en = labelencoder.fit_transform(X_en)\n",
    "x.drop('target',axis=1)\n",
    "x[\"target\"] = X_en\n"
   ]
  },
  {
   "cell_type": "code",
   "execution_count": 372,
   "id": "339f413d",
   "metadata": {},
   "outputs": [
    {
     "name": "stdout",
     "output_type": "stream",
     "text": [
      "<class 'pandas.core.frame.DataFrame'>\n",
      "Int64Index: 9168 entries, 0 to 9171\n",
      "Data columns (total 29 columns):\n",
      " #   Column               Non-Null Count  Dtype  \n",
      "---  ------               --------------  -----  \n",
      " 0   age                  9168 non-null   int64  \n",
      " 1   sex                  9168 non-null   float64\n",
      " 2   on_thyroxine         9168 non-null   int64  \n",
      " 3   query_on_thyroxine   9168 non-null   int64  \n",
      " 4   on_antithyroid_meds  9168 non-null   int64  \n",
      " 5   sick                 9168 non-null   int64  \n",
      " 6   pregnant             9168 non-null   int64  \n",
      " 7   thyroid_surgery      9168 non-null   int64  \n",
      " 8   I131_treatment       9168 non-null   int64  \n",
      " 9   query_hypothyroid    9168 non-null   int64  \n",
      " 10  query_hyperthyroid   9168 non-null   int64  \n",
      " 11  lithium              9168 non-null   int64  \n",
      " 12  goitre               9168 non-null   int64  \n",
      " 13  tumor                9168 non-null   int64  \n",
      " 14  hypopituitary        9168 non-null   int64  \n",
      " 15  psych                9168 non-null   int64  \n",
      " 16  TSH_measured         9168 non-null   int64  \n",
      " 17  TSH                  9168 non-null   object \n",
      " 18  T3_measured          9168 non-null   int64  \n",
      " 19  T3                   9168 non-null   object \n",
      " 20  TT4_measured         9168 non-null   int64  \n",
      " 21  TT4                  9168 non-null   object \n",
      " 22  T4U_measured         9168 non-null   int64  \n",
      " 23  T4U                  9168 non-null   object \n",
      " 24  FTI_measured         9168 non-null   int64  \n",
      " 25  FTI                  9168 non-null   object \n",
      " 26  TBG_measured         9168 non-null   int64  \n",
      " 27  TBG                  9168 non-null   object \n",
      " 28  target               9168 non-null   int32  \n",
      "dtypes: float64(1), int32(1), int64(21), object(6)\n",
      "memory usage: 2.3+ MB\n"
     ]
    }
   ],
   "source": [
    "x_c.info()"
   ]
  },
  {
   "cell_type": "code",
   "execution_count": 388,
   "id": "f3f16fec",
   "metadata": {},
   "outputs": [],
   "source": [
    "x_fil.TBG=x.TBG.astype(float)\n",
    "x_fil.FTI=x.FTI.astype(float)\n",
    "x_fil.TSH=x.TSH.astype(float)\n",
    "x_fil.T4U=x.T4U.astype(float)\n",
    "x_fil.T3=x.T3.astype(float)\n",
    "x_fil.TT4=x.TT4.astype(float)"
   ]
  },
  {
   "cell_type": "code",
   "execution_count": 390,
   "id": "cce039f4",
   "metadata": {},
   "outputs": [],
   "source": [
    "x_fil['target']=X_en"
   ]
  },
  {
   "cell_type": "code",
   "execution_count": 393,
   "id": "93716857",
   "metadata": {},
   "outputs": [
    {
     "name": "stdout",
     "output_type": "stream",
     "text": [
      "T3                    -0.118198\n",
      "sex                   -0.066404\n",
      "TT4_measured          -0.056053\n",
      "psych                 -0.048895\n",
      "FTI_measured          -0.030150\n",
      "T4U_measured          -0.029153\n",
      "lithium               -0.025632\n",
      "query_hyperthyroid    -0.014830\n",
      "sick                  -0.005548\n",
      "tumor                 -0.001141\n",
      "query_on_thyroxine     0.003021\n",
      "I131_treatment         0.008419\n",
      "TSH_measured           0.013667\n",
      "on_antithyroid_meds    0.014315\n",
      "T3_measured            0.016231\n",
      "age                    0.018143\n",
      "thyroid_surgery        0.018159\n",
      "query_hypothyroid      0.036389\n",
      "T4U                    0.047674\n",
      "pregnant               0.088264\n",
      "TBG_measured           0.091675\n",
      "FTI                    0.109634\n",
      "TT4                    0.112491\n",
      "TSH                    0.113489\n",
      "on_thyroxine           0.140978\n",
      "TBG                    0.177784\n",
      "dtype: float64\n"
     ]
    }
   ],
   "source": [
    "imp = x_fil.drop(\"target\", axis=1).apply(lambda a: a.corr(x_fil.target))\n",
    "#print(imp)\n",
    "indices = np.argsort(imp)\n",
    "#print(indices)\n",
    "print(imp[indices])   "
   ]
  },
  {
   "cell_type": "code",
   "execution_count": 398,
   "id": "778cc7e6",
   "metadata": {},
   "outputs": [
    {
     "name": "stdout",
     "output_type": "stream",
     "text": [
      "0.14097769121094256\n",
      "0.113488815783442\n",
      "-0.11819770485367774\n",
      "0.1124907674554168\n",
      "0.10963375856120237\n",
      "0.17778352969869796\n"
     ]
    }
   ],
   "source": [
    "for i in range(0, len(indices)):\n",
    "    if np.abs(imp[i])>0.1:\n",
    "        print(imp[i])\n"
   ]
  },
  {
   "cell_type": "markdown",
   "id": "d6a00fa0",
   "metadata": {},
   "source": [
    "FTI,TT4,TSH,on_thyroxine,TBG,T3 have correlation with target variable more than 0.1"
   ]
  },
  {
   "cell_type": "code",
   "execution_count": 389,
   "id": "fde348de",
   "metadata": {},
   "outputs": [],
   "source": [
    "x_c=x_fil.copy()"
   ]
  },
  {
   "cell_type": "code",
   "execution_count": 420,
   "id": "ac9335bf",
   "metadata": {},
   "outputs": [],
   "source": [
    "x_co= pd.DataFrame([x.FTI, x.TT4, x.TSH, x.on_thyroxine, x.TBG, x.T3, x.target])"
   ]
  },
  {
   "cell_type": "code",
   "execution_count": 422,
   "id": "8331c3e6",
   "metadata": {},
   "outputs": [
    {
     "data": {
      "text/html": [
       "<div>\n",
       "<style scoped>\n",
       "    .dataframe tbody tr th:only-of-type {\n",
       "        vertical-align: middle;\n",
       "    }\n",
       "\n",
       "    .dataframe tbody tr th {\n",
       "        vertical-align: top;\n",
       "    }\n",
       "\n",
       "    .dataframe thead th {\n",
       "        text-align: right;\n",
       "    }\n",
       "</style>\n",
       "<table border=\"1\" class=\"dataframe\">\n",
       "  <thead>\n",
       "    <tr style=\"text-align: right;\">\n",
       "      <th></th>\n",
       "      <th>FTI</th>\n",
       "      <th>TT4</th>\n",
       "      <th>TSH</th>\n",
       "      <th>on_thyroxine</th>\n",
       "      <th>TBG</th>\n",
       "      <th>T3</th>\n",
       "      <th>target</th>\n",
       "    </tr>\n",
       "  </thead>\n",
       "  <tbody>\n",
       "    <tr>\n",
       "      <th>0</th>\n",
       "      <td>109.0</td>\n",
       "      <td>104.0</td>\n",
       "      <td>0.3</td>\n",
       "      <td>0.0</td>\n",
       "      <td>0.0</td>\n",
       "      <td>1.9</td>\n",
       "      <td>0.0</td>\n",
       "    </tr>\n",
       "    <tr>\n",
       "      <th>1</th>\n",
       "      <td>109.0</td>\n",
       "      <td>128.0</td>\n",
       "      <td>1.6</td>\n",
       "      <td>0.0</td>\n",
       "      <td>0.0</td>\n",
       "      <td>1.9</td>\n",
       "      <td>0.0</td>\n",
       "    </tr>\n",
       "    <tr>\n",
       "      <th>2</th>\n",
       "      <td>109.0</td>\n",
       "      <td>104.0</td>\n",
       "      <td>1.4</td>\n",
       "      <td>0.0</td>\n",
       "      <td>11.0</td>\n",
       "      <td>1.9</td>\n",
       "      <td>0.0</td>\n",
       "    </tr>\n",
       "    <tr>\n",
       "      <th>3</th>\n",
       "      <td>109.0</td>\n",
       "      <td>104.0</td>\n",
       "      <td>1.4</td>\n",
       "      <td>0.0</td>\n",
       "      <td>26.0</td>\n",
       "      <td>1.9</td>\n",
       "      <td>0.0</td>\n",
       "    </tr>\n",
       "    <tr>\n",
       "      <th>4</th>\n",
       "      <td>109.0</td>\n",
       "      <td>104.0</td>\n",
       "      <td>1.4</td>\n",
       "      <td>0.0</td>\n",
       "      <td>36.0</td>\n",
       "      <td>1.9</td>\n",
       "      <td>31.0</td>\n",
       "    </tr>\n",
       "    <tr>\n",
       "      <th>...</th>\n",
       "      <td>...</td>\n",
       "      <td>...</td>\n",
       "      <td>...</td>\n",
       "      <td>...</td>\n",
       "      <td>...</td>\n",
       "      <td>...</td>\n",
       "      <td>...</td>\n",
       "    </tr>\n",
       "    <tr>\n",
       "      <th>9167</th>\n",
       "      <td>77.0</td>\n",
       "      <td>64.0</td>\n",
       "      <td>1.4</td>\n",
       "      <td>0.0</td>\n",
       "      <td>0.0</td>\n",
       "      <td>1.9</td>\n",
       "      <td>0.0</td>\n",
       "    </tr>\n",
       "    <tr>\n",
       "      <th>9168</th>\n",
       "      <td>99.0</td>\n",
       "      <td>91.0</td>\n",
       "      <td>1.4</td>\n",
       "      <td>0.0</td>\n",
       "      <td>0.0</td>\n",
       "      <td>1.9</td>\n",
       "      <td>0.0</td>\n",
       "    </tr>\n",
       "    <tr>\n",
       "      <th>9169</th>\n",
       "      <td>89.0</td>\n",
       "      <td>113.0</td>\n",
       "      <td>1.4</td>\n",
       "      <td>0.0</td>\n",
       "      <td>0.0</td>\n",
       "      <td>1.9</td>\n",
       "      <td>16.0</td>\n",
       "    </tr>\n",
       "    <tr>\n",
       "      <th>9170</th>\n",
       "      <td>88.0</td>\n",
       "      <td>75.0</td>\n",
       "      <td>1.4</td>\n",
       "      <td>0.0</td>\n",
       "      <td>0.0</td>\n",
       "      <td>1.9</td>\n",
       "      <td>0.0</td>\n",
       "    </tr>\n",
       "    <tr>\n",
       "      <th>9171</th>\n",
       "      <td>65.0</td>\n",
       "      <td>66.0</td>\n",
       "      <td>1.4</td>\n",
       "      <td>0.0</td>\n",
       "      <td>0.0</td>\n",
       "      <td>1.9</td>\n",
       "      <td>0.0</td>\n",
       "    </tr>\n",
       "  </tbody>\n",
       "</table>\n",
       "<p>9168 rows × 7 columns</p>\n",
       "</div>"
      ],
      "text/plain": [
       "        FTI    TT4  TSH  on_thyroxine   TBG   T3  target\n",
       "0     109.0  104.0  0.3           0.0   0.0  1.9     0.0\n",
       "1     109.0  128.0  1.6           0.0   0.0  1.9     0.0\n",
       "2     109.0  104.0  1.4           0.0  11.0  1.9     0.0\n",
       "3     109.0  104.0  1.4           0.0  26.0  1.9     0.0\n",
       "4     109.0  104.0  1.4           0.0  36.0  1.9    31.0\n",
       "...     ...    ...  ...           ...   ...  ...     ...\n",
       "9167   77.0   64.0  1.4           0.0   0.0  1.9     0.0\n",
       "9168   99.0   91.0  1.4           0.0   0.0  1.9     0.0\n",
       "9169   89.0  113.0  1.4           0.0   0.0  1.9    16.0\n",
       "9170   88.0   75.0  1.4           0.0   0.0  1.9     0.0\n",
       "9171   65.0   66.0  1.4           0.0   0.0  1.9     0.0\n",
       "\n",
       "[9168 rows x 7 columns]"
      ]
     },
     "execution_count": 422,
     "metadata": {},
     "output_type": "execute_result"
    }
   ],
   "source": [
    "x_co.T"
   ]
  },
  {
   "cell_type": "code",
   "execution_count": 437,
   "id": "96f981fe",
   "metadata": {},
   "outputs": [],
   "source": [
    "y_co=x_co.T['target']\n",
    "x_co.drop('target', inplace=True)"
   ]
  },
  {
   "cell_type": "code",
   "execution_count": 438,
   "id": "a10c0b50",
   "metadata": {},
   "outputs": [
    {
     "data": {
      "text/html": [
       "<div>\n",
       "<style scoped>\n",
       "    .dataframe tbody tr th:only-of-type {\n",
       "        vertical-align: middle;\n",
       "    }\n",
       "\n",
       "    .dataframe tbody tr th {\n",
       "        vertical-align: top;\n",
       "    }\n",
       "\n",
       "    .dataframe thead th {\n",
       "        text-align: right;\n",
       "    }\n",
       "</style>\n",
       "<table border=\"1\" class=\"dataframe\">\n",
       "  <thead>\n",
       "    <tr style=\"text-align: right;\">\n",
       "      <th></th>\n",
       "      <th>0</th>\n",
       "      <th>1</th>\n",
       "      <th>2</th>\n",
       "      <th>3</th>\n",
       "      <th>4</th>\n",
       "      <th>5</th>\n",
       "      <th>6</th>\n",
       "      <th>7</th>\n",
       "      <th>8</th>\n",
       "      <th>9</th>\n",
       "      <th>...</th>\n",
       "      <th>9162</th>\n",
       "      <th>9163</th>\n",
       "      <th>9164</th>\n",
       "      <th>9165</th>\n",
       "      <th>9166</th>\n",
       "      <th>9167</th>\n",
       "      <th>9168</th>\n",
       "      <th>9169</th>\n",
       "      <th>9170</th>\n",
       "      <th>9171</th>\n",
       "    </tr>\n",
       "  </thead>\n",
       "  <tbody>\n",
       "    <tr>\n",
       "      <th>FTI</th>\n",
       "      <td>109.0</td>\n",
       "      <td>109.0</td>\n",
       "      <td>109.0</td>\n",
       "      <td>109.0</td>\n",
       "      <td>109.0</td>\n",
       "      <td>109.0</td>\n",
       "      <td>109.0</td>\n",
       "      <td>109.0</td>\n",
       "      <td>109.0</td>\n",
       "      <td>109.0</td>\n",
       "      <td>...</td>\n",
       "      <td>67.0</td>\n",
       "      <td>100.0</td>\n",
       "      <td>85.0</td>\n",
       "      <td>115.0</td>\n",
       "      <td>119.0</td>\n",
       "      <td>77.0</td>\n",
       "      <td>99.0</td>\n",
       "      <td>89.0</td>\n",
       "      <td>88.0</td>\n",
       "      <td>65.0</td>\n",
       "    </tr>\n",
       "    <tr>\n",
       "      <th>TT4</th>\n",
       "      <td>104.0</td>\n",
       "      <td>128.0</td>\n",
       "      <td>104.0</td>\n",
       "      <td>104.0</td>\n",
       "      <td>104.0</td>\n",
       "      <td>104.0</td>\n",
       "      <td>104.0</td>\n",
       "      <td>116.0</td>\n",
       "      <td>76.0</td>\n",
       "      <td>83.0</td>\n",
       "      <td>...</td>\n",
       "      <td>84.0</td>\n",
       "      <td>94.0</td>\n",
       "      <td>67.0</td>\n",
       "      <td>76.0</td>\n",
       "      <td>88.0</td>\n",
       "      <td>64.0</td>\n",
       "      <td>91.0</td>\n",
       "      <td>113.0</td>\n",
       "      <td>75.0</td>\n",
       "      <td>66.0</td>\n",
       "    </tr>\n",
       "    <tr>\n",
       "      <th>TSH</th>\n",
       "      <td>0.3</td>\n",
       "      <td>1.6</td>\n",
       "      <td>1.4</td>\n",
       "      <td>1.4</td>\n",
       "      <td>1.4</td>\n",
       "      <td>1.4</td>\n",
       "      <td>1.4</td>\n",
       "      <td>0.7</td>\n",
       "      <td>1.2</td>\n",
       "      <td>1.9</td>\n",
       "      <td>...</td>\n",
       "      <td>1.4</td>\n",
       "      <td>1.4</td>\n",
       "      <td>1.4</td>\n",
       "      <td>1.4</td>\n",
       "      <td>1.4</td>\n",
       "      <td>1.4</td>\n",
       "      <td>1.4</td>\n",
       "      <td>1.4</td>\n",
       "      <td>1.4</td>\n",
       "      <td>1.4</td>\n",
       "    </tr>\n",
       "    <tr>\n",
       "      <th>on_thyroxine</th>\n",
       "      <td>0.0</td>\n",
       "      <td>0.0</td>\n",
       "      <td>0.0</td>\n",
       "      <td>0.0</td>\n",
       "      <td>0.0</td>\n",
       "      <td>0.0</td>\n",
       "      <td>0.0</td>\n",
       "      <td>0.0</td>\n",
       "      <td>0.0</td>\n",
       "      <td>0.0</td>\n",
       "      <td>...</td>\n",
       "      <td>0.0</td>\n",
       "      <td>1.0</td>\n",
       "      <td>0.0</td>\n",
       "      <td>0.0</td>\n",
       "      <td>0.0</td>\n",
       "      <td>0.0</td>\n",
       "      <td>0.0</td>\n",
       "      <td>0.0</td>\n",
       "      <td>0.0</td>\n",
       "      <td>0.0</td>\n",
       "    </tr>\n",
       "    <tr>\n",
       "      <th>TBG</th>\n",
       "      <td>0.0</td>\n",
       "      <td>0.0</td>\n",
       "      <td>11.0</td>\n",
       "      <td>26.0</td>\n",
       "      <td>36.0</td>\n",
       "      <td>26.0</td>\n",
       "      <td>21.0</td>\n",
       "      <td>0.0</td>\n",
       "      <td>0.0</td>\n",
       "      <td>0.0</td>\n",
       "      <td>...</td>\n",
       "      <td>0.0</td>\n",
       "      <td>0.0</td>\n",
       "      <td>0.0</td>\n",
       "      <td>0.0</td>\n",
       "      <td>0.0</td>\n",
       "      <td>0.0</td>\n",
       "      <td>0.0</td>\n",
       "      <td>0.0</td>\n",
       "      <td>0.0</td>\n",
       "      <td>0.0</td>\n",
       "    </tr>\n",
       "    <tr>\n",
       "      <th>T3</th>\n",
       "      <td>1.9</td>\n",
       "      <td>1.9</td>\n",
       "      <td>1.9</td>\n",
       "      <td>1.9</td>\n",
       "      <td>1.9</td>\n",
       "      <td>1.9</td>\n",
       "      <td>1.9</td>\n",
       "      <td>2.6</td>\n",
       "      <td>1.8</td>\n",
       "      <td>1.7</td>\n",
       "      <td>...</td>\n",
       "      <td>1.9</td>\n",
       "      <td>1.9</td>\n",
       "      <td>1.9</td>\n",
       "      <td>1.9</td>\n",
       "      <td>1.9</td>\n",
       "      <td>1.9</td>\n",
       "      <td>1.9</td>\n",
       "      <td>1.9</td>\n",
       "      <td>1.9</td>\n",
       "      <td>1.9</td>\n",
       "    </tr>\n",
       "  </tbody>\n",
       "</table>\n",
       "<p>6 rows × 9168 columns</p>\n",
       "</div>"
      ],
      "text/plain": [
       "               0      1      2      3      4      5      6      7      8     \\\n",
       "FTI           109.0  109.0  109.0  109.0  109.0  109.0  109.0  109.0  109.0   \n",
       "TT4           104.0  128.0  104.0  104.0  104.0  104.0  104.0  116.0   76.0   \n",
       "TSH             0.3    1.6    1.4    1.4    1.4    1.4    1.4    0.7    1.2   \n",
       "on_thyroxine    0.0    0.0    0.0    0.0    0.0    0.0    0.0    0.0    0.0   \n",
       "TBG             0.0    0.0   11.0   26.0   36.0   26.0   21.0    0.0    0.0   \n",
       "T3              1.9    1.9    1.9    1.9    1.9    1.9    1.9    2.6    1.8   \n",
       "\n",
       "               9     ...  9162   9163  9164   9165   9166  9167  9168   9169  \\\n",
       "FTI           109.0  ...  67.0  100.0  85.0  115.0  119.0  77.0  99.0   89.0   \n",
       "TT4            83.0  ...  84.0   94.0  67.0   76.0   88.0  64.0  91.0  113.0   \n",
       "TSH             1.9  ...   1.4    1.4   1.4    1.4    1.4   1.4   1.4    1.4   \n",
       "on_thyroxine    0.0  ...   0.0    1.0   0.0    0.0    0.0   0.0   0.0    0.0   \n",
       "TBG             0.0  ...   0.0    0.0   0.0    0.0    0.0   0.0   0.0    0.0   \n",
       "T3              1.7  ...   1.9    1.9   1.9    1.9    1.9   1.9   1.9    1.9   \n",
       "\n",
       "              9170  9171  \n",
       "FTI           88.0  65.0  \n",
       "TT4           75.0  66.0  \n",
       "TSH            1.4   1.4  \n",
       "on_thyroxine   0.0   0.0  \n",
       "TBG            0.0   0.0  \n",
       "T3             1.9   1.9  \n",
       "\n",
       "[6 rows x 9168 columns]"
      ]
     },
     "execution_count": 438,
     "metadata": {},
     "output_type": "execute_result"
    }
   ],
   "source": [
    "x_co"
   ]
  },
  {
   "cell_type": "code",
   "execution_count": 448,
   "id": "d5fbdebd",
   "metadata": {},
   "outputs": [],
   "source": [
    "from sklearn.model_selection import train_test_split\n",
    "x_train_f, x_test_f, y_train_f, y_test_f = train_test_split(x_co.T,y_co, test_size=0.25, random_state=42)"
   ]
  },
  {
   "cell_type": "code",
   "execution_count": 450,
   "id": "72c49e21",
   "metadata": {},
   "outputs": [
    {
     "data": {
      "text/plain": [
       "5895     0.0\n",
       "6852    16.0\n",
       "2223     0.0\n",
       "100      1.0\n",
       "6429     2.0\n",
       "        ... \n",
       "5736    11.0\n",
       "5192     0.0\n",
       "5391     0.0\n",
       "860     11.0\n",
       "7273    18.0\n",
       "Name: target, Length: 6876, dtype: float64"
      ]
     },
     "execution_count": 450,
     "metadata": {},
     "output_type": "execute_result"
    }
   ],
   "source": [
    "y_train_f"
   ]
  },
  {
   "cell_type": "code",
   "execution_count": 443,
   "id": "0ba91590",
   "metadata": {},
   "outputs": [
    {
     "name": "stderr",
     "output_type": "stream",
     "text": [
      "C:\\Users\\mindstix\\anaconda3\\lib\\site-packages\\sklearn\\linear_model\\_logistic.py:814: ConvergenceWarning: lbfgs failed to converge (status=1):\n",
      "STOP: TOTAL NO. of ITERATIONS REACHED LIMIT.\n",
      "\n",
      "Increase the number of iterations (max_iter) or scale the data as shown in:\n",
      "    https://scikit-learn.org/stable/modules/preprocessing.html\n",
      "Please also refer to the documentation for alternative solver options:\n",
      "    https://scikit-learn.org/stable/modules/linear_model.html#logistic-regression\n",
      "  n_iter_i = _check_optimize_result(\n"
     ]
    },
    {
     "data": {
      "text/plain": [
       "0.8219895287958116"
      ]
     },
     "execution_count": 443,
     "metadata": {},
     "output_type": "execute_result"
    }
   ],
   "source": [
    "from sklearn.linear_model import LogisticRegression\n",
    "lr_feat_sel = LogisticRegression(max_iter=1000)\n",
    "lrfs = lr_feat_sel.fit(x_train,y_train)\n",
    "y_predfs = lrfs.predict(x_test)\n",
    "accuracy_score(y_predfs,y_test)\n"
   ]
  },
  {
   "cell_type": "code",
   "execution_count": 453,
   "id": "dbc1e5a8",
   "metadata": {},
   "outputs": [
    {
     "name": "stderr",
     "output_type": "stream",
     "text": [
      "C:\\Users\\mindstix\\anaconda3\\lib\\site-packages\\sklearn\\neighbors\\_classification.py:228: FutureWarning: Unlike other reduction functions (e.g. `skew`, `kurtosis`), the default behavior of `mode` typically preserves the axis it acts along. In SciPy 1.11.0, this behavior will change: the default value of `keepdims` will become False, the `axis` over which the statistic is taken will be eliminated, and the value None will no longer be accepted. Set `keepdims` to True or False to avoid this warning.\n",
      "  mode, _ = stats.mode(_y[neigh_ind, k], axis=1)\n"
     ]
    }
   ],
   "source": [
    "neighfs = KNeighborsClassifier(n_neighbors=3)\n",
    "knnfs = neighfs.fit(x_train_f,y_train_f)\n",
    "y_predfs = knnfs.predict(x_test_f)\n"
   ]
  },
  {
   "cell_type": "code",
   "execution_count": 454,
   "id": "c9c35b10",
   "metadata": {},
   "outputs": [
    {
     "data": {
      "text/plain": [
       "0.7953752181500873"
      ]
     },
     "execution_count": 454,
     "metadata": {},
     "output_type": "execute_result"
    }
   ],
   "source": [
    "accuracy_score(y_predfs,y_test_f)\n"
   ]
  },
  {
   "cell_type": "code",
   "execution_count": 456,
   "id": "affbe23f",
   "metadata": {},
   "outputs": [],
   "source": [
    "from sklearn.svm import SVC\n",
    "svm_classifierfs=SVC(kernel='rbf')\n",
    "svm_classifierfs.fit(x_train_f,y_train_f)\n",
    "y_pred_fs=svm_classifierfs.predict(x_test_f)"
   ]
  },
  {
   "cell_type": "code",
   "execution_count": 457,
   "id": "34387452",
   "metadata": {},
   "outputs": [
    {
     "data": {
      "text/plain": [
       "0.7796684118673648"
      ]
     },
     "execution_count": 457,
     "metadata": {},
     "output_type": "execute_result"
    }
   ],
   "source": [
    "accuracy_score(y_pred_fs,y_test_f)\n",
    "#74% with all features"
   ]
  },
  {
   "cell_type": "code",
   "execution_count": 459,
   "id": "a3183c48",
   "metadata": {},
   "outputs": [],
   "source": [
    "from sklearn.ensemble import RandomForestClassifier\n",
    "rf_classifierfs=RandomForestClassifier()\n",
    "rf_classifierfs.fit(x_train_f,y_train_f)\n",
    "y_pred_rf_fs=rf_classifierfs.predict(x_test_f)\n",
    "\n"
   ]
  },
  {
   "cell_type": "code",
   "execution_count": 467,
   "id": "3b5eff97",
   "metadata": {},
   "outputs": [
    {
     "data": {
      "text/plain": [
       "{'bootstrap': True,\n",
       " 'ccp_alpha': 0.0,\n",
       " 'class_weight': None,\n",
       " 'criterion': 'gini',\n",
       " 'max_depth': None,\n",
       " 'max_features': 'auto',\n",
       " 'max_leaf_nodes': None,\n",
       " 'max_samples': None,\n",
       " 'min_impurity_decrease': 0.0,\n",
       " 'min_samples_leaf': 1,\n",
       " 'min_samples_split': 2,\n",
       " 'min_weight_fraction_leaf': 0.0,\n",
       " 'n_estimators': 100,\n",
       " 'n_jobs': None,\n",
       " 'oob_score': False,\n",
       " 'random_state': None,\n",
       " 'verbose': 0,\n",
       " 'warm_start': False}"
      ]
     },
     "execution_count": 467,
     "metadata": {},
     "output_type": "execute_result"
    }
   ],
   "source": [
    "rf_classifierfs.get_params()"
   ]
  },
  {
   "cell_type": "code",
   "execution_count": 460,
   "id": "103aced7",
   "metadata": {},
   "outputs": [
    {
     "data": {
      "text/plain": [
       "0.9293193717277487"
      ]
     },
     "execution_count": 460,
     "metadata": {},
     "output_type": "execute_result"
    }
   ],
   "source": [
    "accuracy_score(y_pred_rf_fs,y_test_f)\n",
    "#93.9 with all features"
   ]
  },
  {
   "cell_type": "code",
   "execution_count": 461,
   "id": "868b0a32",
   "metadata": {},
   "outputs": [
    {
     "name": "stdout",
     "output_type": "stream",
     "text": [
      "Fitting 3 folds for each of 100 candidates, totalling 300 fits\n"
     ]
    },
    {
     "name": "stderr",
     "output_type": "stream",
     "text": [
      "C:\\Users\\mindstix\\anaconda3\\lib\\site-packages\\sklearn\\model_selection\\_split.py:676: UserWarning: The least populated class in y has only 1 members, which is less than n_splits=3.\n",
      "  warnings.warn(\n"
     ]
    },
    {
     "data": {
      "text/plain": [
       "RandomizedSearchCV(cv=3, estimator=RandomForestClassifier(), n_iter=100,\n",
       "                   n_jobs=-1,\n",
       "                   param_distributions={'bootstrap': [True, False],\n",
       "                                        'max_depth': [10, 20, 30, 40, 50, 60,\n",
       "                                                      70, 80, 90, 100, None],\n",
       "                                        'max_features': ['auto', 'sqrt'],\n",
       "                                        'min_samples_leaf': [1, 2, 4],\n",
       "                                        'min_samples_split': [2, 5, 10],\n",
       "                                        'n_estimators': [200, 400, 600, 800,\n",
       "                                                         1000, 1200, 1400, 1600,\n",
       "                                                         1800, 2000]},\n",
       "                   random_state=42, verbose=2)"
      ]
     },
     "execution_count": 461,
     "metadata": {},
     "output_type": "execute_result"
    }
   ],
   "source": [
    "rf = RandomForestClassifier()\n",
    "# Random search of parameters, using 3 fold cross validation, \n",
    "# search across 100 different combinations, and use all available cores\n",
    "rf_randomfs = RandomizedSearchCV(estimator = rf, param_distributions = params, n_iter = 100, cv = 3, verbose=2, random_state=42, n_jobs = -1)\n",
    "# Fit the random search model\n",
    "rf_randomfs.fit(x_train_f, y_train_f)"
   ]
  },
  {
   "cell_type": "code",
   "execution_count": 462,
   "id": "e5aff71d",
   "metadata": {},
   "outputs": [],
   "source": [
    "y_pred_rfr_fs=rf_randomfs.predict(x_test_f)\n"
   ]
  },
  {
   "cell_type": "code",
   "execution_count": 463,
   "id": "bb888994",
   "metadata": {},
   "outputs": [
    {
     "data": {
      "text/plain": [
       "0.9293193717277487"
      ]
     },
     "execution_count": 463,
     "metadata": {},
     "output_type": "execute_result"
    }
   ],
   "source": [
    "accuracy_score(y_pred_rfr_fs,y_test_f)\n"
   ]
  },
  {
   "cell_type": "code",
   "execution_count": 466,
   "id": "6224dc67",
   "metadata": {},
   "outputs": [
    {
     "data": {
      "text/plain": [
       "{'n_estimators': 2000,\n",
       " 'min_samples_split': 2,\n",
       " 'min_samples_leaf': 4,\n",
       " 'max_features': 'auto',\n",
       " 'max_depth': 90,\n",
       " 'bootstrap': False}"
      ]
     },
     "execution_count": 466,
     "metadata": {},
     "output_type": "execute_result"
    }
   ],
   "source": [
    "rf_randomfs.best_params_"
   ]
  },
  {
   "cell_type": "code",
   "execution_count": 469,
   "id": "e24540cb",
   "metadata": {},
   "outputs": [
    {
     "data": {
      "text/html": [
       "<div>\n",
       "<style scoped>\n",
       "    .dataframe tbody tr th:only-of-type {\n",
       "        vertical-align: middle;\n",
       "    }\n",
       "\n",
       "    .dataframe tbody tr th {\n",
       "        vertical-align: top;\n",
       "    }\n",
       "\n",
       "    .dataframe thead th {\n",
       "        text-align: right;\n",
       "    }\n",
       "</style>\n",
       "<table border=\"1\" class=\"dataframe\">\n",
       "  <thead>\n",
       "    <tr style=\"text-align: right;\">\n",
       "      <th></th>\n",
       "      <th>age</th>\n",
       "      <th>sex</th>\n",
       "      <th>on_thyroxine</th>\n",
       "      <th>query_on_thyroxine</th>\n",
       "      <th>on_antithyroid_meds</th>\n",
       "      <th>sick</th>\n",
       "      <th>pregnant</th>\n",
       "      <th>thyroid_surgery</th>\n",
       "      <th>I131_treatment</th>\n",
       "      <th>query_hypothyroid</th>\n",
       "      <th>...</th>\n",
       "      <th>T3_measured</th>\n",
       "      <th>T3</th>\n",
       "      <th>TT4_measured</th>\n",
       "      <th>TT4</th>\n",
       "      <th>T4U_measured</th>\n",
       "      <th>T4U</th>\n",
       "      <th>FTI_measured</th>\n",
       "      <th>FTI</th>\n",
       "      <th>TBG_measured</th>\n",
       "      <th>TBG</th>\n",
       "    </tr>\n",
       "  </thead>\n",
       "  <tbody>\n",
       "    <tr>\n",
       "      <th>0</th>\n",
       "      <td>29</td>\n",
       "      <td>0.0</td>\n",
       "      <td>0</td>\n",
       "      <td>0</td>\n",
       "      <td>0</td>\n",
       "      <td>0</td>\n",
       "      <td>0</td>\n",
       "      <td>0</td>\n",
       "      <td>0</td>\n",
       "      <td>1</td>\n",
       "      <td>...</td>\n",
       "      <td>0</td>\n",
       "      <td>1.9</td>\n",
       "      <td>0</td>\n",
       "      <td>104.0</td>\n",
       "      <td>0</td>\n",
       "      <td>0.96</td>\n",
       "      <td>0</td>\n",
       "      <td>109.0</td>\n",
       "      <td>0</td>\n",
       "      <td>0.0</td>\n",
       "    </tr>\n",
       "    <tr>\n",
       "      <th>1</th>\n",
       "      <td>29</td>\n",
       "      <td>0.0</td>\n",
       "      <td>0</td>\n",
       "      <td>0</td>\n",
       "      <td>0</td>\n",
       "      <td>0</td>\n",
       "      <td>0</td>\n",
       "      <td>0</td>\n",
       "      <td>0</td>\n",
       "      <td>0</td>\n",
       "      <td>...</td>\n",
       "      <td>1</td>\n",
       "      <td>1.9</td>\n",
       "      <td>1</td>\n",
       "      <td>128.0</td>\n",
       "      <td>0</td>\n",
       "      <td>0.96</td>\n",
       "      <td>0</td>\n",
       "      <td>109.0</td>\n",
       "      <td>0</td>\n",
       "      <td>0.0</td>\n",
       "    </tr>\n",
       "    <tr>\n",
       "      <th>2</th>\n",
       "      <td>41</td>\n",
       "      <td>0.0</td>\n",
       "      <td>0</td>\n",
       "      <td>0</td>\n",
       "      <td>0</td>\n",
       "      <td>0</td>\n",
       "      <td>0</td>\n",
       "      <td>0</td>\n",
       "      <td>0</td>\n",
       "      <td>0</td>\n",
       "      <td>...</td>\n",
       "      <td>0</td>\n",
       "      <td>1.9</td>\n",
       "      <td>0</td>\n",
       "      <td>104.0</td>\n",
       "      <td>0</td>\n",
       "      <td>0.96</td>\n",
       "      <td>0</td>\n",
       "      <td>109.0</td>\n",
       "      <td>1</td>\n",
       "      <td>11.0</td>\n",
       "    </tr>\n",
       "    <tr>\n",
       "      <th>3</th>\n",
       "      <td>36</td>\n",
       "      <td>0.0</td>\n",
       "      <td>0</td>\n",
       "      <td>0</td>\n",
       "      <td>0</td>\n",
       "      <td>0</td>\n",
       "      <td>0</td>\n",
       "      <td>0</td>\n",
       "      <td>0</td>\n",
       "      <td>0</td>\n",
       "      <td>...</td>\n",
       "      <td>0</td>\n",
       "      <td>1.9</td>\n",
       "      <td>0</td>\n",
       "      <td>104.0</td>\n",
       "      <td>0</td>\n",
       "      <td>0.96</td>\n",
       "      <td>0</td>\n",
       "      <td>109.0</td>\n",
       "      <td>1</td>\n",
       "      <td>26.0</td>\n",
       "    </tr>\n",
       "    <tr>\n",
       "      <th>4</th>\n",
       "      <td>32</td>\n",
       "      <td>0.0</td>\n",
       "      <td>0</td>\n",
       "      <td>0</td>\n",
       "      <td>0</td>\n",
       "      <td>0</td>\n",
       "      <td>0</td>\n",
       "      <td>0</td>\n",
       "      <td>0</td>\n",
       "      <td>0</td>\n",
       "      <td>...</td>\n",
       "      <td>0</td>\n",
       "      <td>1.9</td>\n",
       "      <td>0</td>\n",
       "      <td>104.0</td>\n",
       "      <td>0</td>\n",
       "      <td>0.96</td>\n",
       "      <td>0</td>\n",
       "      <td>109.0</td>\n",
       "      <td>1</td>\n",
       "      <td>36.0</td>\n",
       "    </tr>\n",
       "    <tr>\n",
       "      <th>...</th>\n",
       "      <td>...</td>\n",
       "      <td>...</td>\n",
       "      <td>...</td>\n",
       "      <td>...</td>\n",
       "      <td>...</td>\n",
       "      <td>...</td>\n",
       "      <td>...</td>\n",
       "      <td>...</td>\n",
       "      <td>...</td>\n",
       "      <td>...</td>\n",
       "      <td>...</td>\n",
       "      <td>...</td>\n",
       "      <td>...</td>\n",
       "      <td>...</td>\n",
       "      <td>...</td>\n",
       "      <td>...</td>\n",
       "      <td>...</td>\n",
       "      <td>...</td>\n",
       "      <td>...</td>\n",
       "      <td>...</td>\n",
       "      <td>...</td>\n",
       "    </tr>\n",
       "    <tr>\n",
       "      <th>9167</th>\n",
       "      <td>56</td>\n",
       "      <td>1.0</td>\n",
       "      <td>0</td>\n",
       "      <td>0</td>\n",
       "      <td>0</td>\n",
       "      <td>0</td>\n",
       "      <td>0</td>\n",
       "      <td>0</td>\n",
       "      <td>0</td>\n",
       "      <td>0</td>\n",
       "      <td>...</td>\n",
       "      <td>0</td>\n",
       "      <td>1.9</td>\n",
       "      <td>1</td>\n",
       "      <td>64.0</td>\n",
       "      <td>1</td>\n",
       "      <td>0.83</td>\n",
       "      <td>1</td>\n",
       "      <td>77.0</td>\n",
       "      <td>0</td>\n",
       "      <td>0.0</td>\n",
       "    </tr>\n",
       "    <tr>\n",
       "      <th>9168</th>\n",
       "      <td>22</td>\n",
       "      <td>1.0</td>\n",
       "      <td>0</td>\n",
       "      <td>0</td>\n",
       "      <td>0</td>\n",
       "      <td>0</td>\n",
       "      <td>0</td>\n",
       "      <td>0</td>\n",
       "      <td>0</td>\n",
       "      <td>0</td>\n",
       "      <td>...</td>\n",
       "      <td>0</td>\n",
       "      <td>1.9</td>\n",
       "      <td>1</td>\n",
       "      <td>91.0</td>\n",
       "      <td>1</td>\n",
       "      <td>0.92</td>\n",
       "      <td>1</td>\n",
       "      <td>99.0</td>\n",
       "      <td>0</td>\n",
       "      <td>0.0</td>\n",
       "    </tr>\n",
       "    <tr>\n",
       "      <th>9169</th>\n",
       "      <td>69</td>\n",
       "      <td>1.0</td>\n",
       "      <td>0</td>\n",
       "      <td>0</td>\n",
       "      <td>0</td>\n",
       "      <td>0</td>\n",
       "      <td>0</td>\n",
       "      <td>0</td>\n",
       "      <td>0</td>\n",
       "      <td>0</td>\n",
       "      <td>...</td>\n",
       "      <td>0</td>\n",
       "      <td>1.9</td>\n",
       "      <td>1</td>\n",
       "      <td>113.0</td>\n",
       "      <td>1</td>\n",
       "      <td>1.27</td>\n",
       "      <td>1</td>\n",
       "      <td>89.0</td>\n",
       "      <td>0</td>\n",
       "      <td>0.0</td>\n",
       "    </tr>\n",
       "    <tr>\n",
       "      <th>9170</th>\n",
       "      <td>47</td>\n",
       "      <td>0.0</td>\n",
       "      <td>0</td>\n",
       "      <td>0</td>\n",
       "      <td>0</td>\n",
       "      <td>0</td>\n",
       "      <td>0</td>\n",
       "      <td>0</td>\n",
       "      <td>0</td>\n",
       "      <td>0</td>\n",
       "      <td>...</td>\n",
       "      <td>0</td>\n",
       "      <td>1.9</td>\n",
       "      <td>1</td>\n",
       "      <td>75.0</td>\n",
       "      <td>1</td>\n",
       "      <td>0.85</td>\n",
       "      <td>1</td>\n",
       "      <td>88.0</td>\n",
       "      <td>0</td>\n",
       "      <td>0.0</td>\n",
       "    </tr>\n",
       "    <tr>\n",
       "      <th>9171</th>\n",
       "      <td>31</td>\n",
       "      <td>1.0</td>\n",
       "      <td>0</td>\n",
       "      <td>0</td>\n",
       "      <td>0</td>\n",
       "      <td>0</td>\n",
       "      <td>0</td>\n",
       "      <td>0</td>\n",
       "      <td>0</td>\n",
       "      <td>1</td>\n",
       "      <td>...</td>\n",
       "      <td>0</td>\n",
       "      <td>1.9</td>\n",
       "      <td>1</td>\n",
       "      <td>66.0</td>\n",
       "      <td>1</td>\n",
       "      <td>1.02</td>\n",
       "      <td>1</td>\n",
       "      <td>65.0</td>\n",
       "      <td>0</td>\n",
       "      <td>0.0</td>\n",
       "    </tr>\n",
       "  </tbody>\n",
       "</table>\n",
       "<p>9168 rows × 26 columns</p>\n",
       "</div>"
      ],
      "text/plain": [
       "      age  sex  on_thyroxine  query_on_thyroxine  on_antithyroid_meds  sick  \\\n",
       "0      29  0.0             0                   0                    0     0   \n",
       "1      29  0.0             0                   0                    0     0   \n",
       "2      41  0.0             0                   0                    0     0   \n",
       "3      36  0.0             0                   0                    0     0   \n",
       "4      32  0.0             0                   0                    0     0   \n",
       "...   ...  ...           ...                 ...                  ...   ...   \n",
       "9167   56  1.0             0                   0                    0     0   \n",
       "9168   22  1.0             0                   0                    0     0   \n",
       "9169   69  1.0             0                   0                    0     0   \n",
       "9170   47  0.0             0                   0                    0     0   \n",
       "9171   31  1.0             0                   0                    0     0   \n",
       "\n",
       "      pregnant  thyroid_surgery  I131_treatment  query_hypothyroid  ...  \\\n",
       "0            0                0               0                  1  ...   \n",
       "1            0                0               0                  0  ...   \n",
       "2            0                0               0                  0  ...   \n",
       "3            0                0               0                  0  ...   \n",
       "4            0                0               0                  0  ...   \n",
       "...        ...              ...             ...                ...  ...   \n",
       "9167         0                0               0                  0  ...   \n",
       "9168         0                0               0                  0  ...   \n",
       "9169         0                0               0                  0  ...   \n",
       "9170         0                0               0                  0  ...   \n",
       "9171         0                0               0                  1  ...   \n",
       "\n",
       "      T3_measured   T3  TT4_measured    TT4  T4U_measured   T4U  FTI_measured  \\\n",
       "0               0  1.9             0  104.0             0  0.96             0   \n",
       "1               1  1.9             1  128.0             0  0.96             0   \n",
       "2               0  1.9             0  104.0             0  0.96             0   \n",
       "3               0  1.9             0  104.0             0  0.96             0   \n",
       "4               0  1.9             0  104.0             0  0.96             0   \n",
       "...           ...  ...           ...    ...           ...   ...           ...   \n",
       "9167            0  1.9             1   64.0             1  0.83             1   \n",
       "9168            0  1.9             1   91.0             1  0.92             1   \n",
       "9169            0  1.9             1  113.0             1  1.27             1   \n",
       "9170            0  1.9             1   75.0             1  0.85             1   \n",
       "9171            0  1.9             1   66.0             1  1.02             1   \n",
       "\n",
       "        FTI  TBG_measured   TBG  \n",
       "0     109.0             0   0.0  \n",
       "1     109.0             0   0.0  \n",
       "2     109.0             1  11.0  \n",
       "3     109.0             1  26.0  \n",
       "4     109.0             1  36.0  \n",
       "...     ...           ...   ...  \n",
       "9167   77.0             0   0.0  \n",
       "9168   99.0             0   0.0  \n",
       "9169   89.0             0   0.0  \n",
       "9170   88.0             0   0.0  \n",
       "9171   65.0             0   0.0  \n",
       "\n",
       "[9168 rows x 26 columns]"
      ]
     },
     "execution_count": 469,
     "metadata": {},
     "output_type": "execute_result"
    }
   ],
   "source": [
    "y_fil=x_fil['target']\n",
    "x_fil.drop('target', axis=1)\n"
   ]
  },
  {
   "cell_type": "code",
   "execution_count": 474,
   "id": "bfd51327",
   "metadata": {},
   "outputs": [],
   "source": [
    "x_train_l, x_test_l, y_train_l, y_test_l = train_test_split(x_fil,y_fil, test_size=0.25, random_state=42)"
   ]
  },
  {
   "cell_type": "code",
   "execution_count": 475,
   "id": "a312a602",
   "metadata": {},
   "outputs": [
    {
     "name": "stderr",
     "output_type": "stream",
     "text": [
      "C:\\Users\\mindstix\\anaconda3\\lib\\site-packages\\sklearn\\linear_model\\_logistic.py:814: ConvergenceWarning: lbfgs failed to converge (status=1):\n",
      "STOP: TOTAL NO. of ITERATIONS REACHED LIMIT.\n",
      "\n",
      "Increase the number of iterations (max_iter) or scale the data as shown in:\n",
      "    https://scikit-learn.org/stable/modules/preprocessing.html\n",
      "Please also refer to the documentation for alternative solver options:\n",
      "    https://scikit-learn.org/stable/modules/linear_model.html#logistic-regression\n",
      "  n_iter_i = _check_optimize_result(\n"
     ]
    }
   ],
   "source": [
    "lr_l = LogisticRegression(max_iter=1000)\n",
    "lrl = lr_l.fit(x_train_l,y_train_l)\n",
    "y_pred_l = lrl.predict(x_test_l)\n"
   ]
  },
  {
   "cell_type": "code",
   "execution_count": 542,
   "id": "af5effdf",
   "metadata": {},
   "outputs": [
    {
     "name": "stdout",
     "output_type": "stream",
     "text": [
      "              precision    recall  f1-score   support\n",
      "\n",
      "           0       1.00      1.00      1.00      1673\n",
      "           1       0.93      0.93      0.93        28\n",
      "           2       1.00      1.00      1.00        11\n",
      "           3       0.60      1.00      0.75         3\n",
      "           4       0.00      0.00      0.00         3\n",
      "           5       0.50      1.00      0.67         1\n",
      "           9       0.96      0.86      0.91        51\n",
      "          10       0.50      0.50      0.50         2\n",
      "          11       0.91      0.96      0.94        85\n",
      "          12       0.00      0.00      0.00         1\n",
      "          13       0.75      0.86      0.80         7\n",
      "          15       0.00      0.00      0.00         1\n",
      "          16       0.92      0.96      0.94        97\n",
      "          17       0.88      0.70      0.78        10\n",
      "          18       0.96      0.99      0.98       139\n",
      "          19       1.00      1.00      1.00         2\n",
      "          20       0.92      0.86      0.89        28\n",
      "          21       0.00      0.00      0.00         0\n",
      "          22       0.81      1.00      0.90        26\n",
      "          24       1.00      0.14      0.25         7\n",
      "          25       0.93      0.90      0.91        29\n",
      "          26       0.00      0.00      0.00         1\n",
      "          28       0.00      0.00      0.00         3\n",
      "          29       0.33      0.33      0.33         3\n",
      "          30       0.90      0.95      0.92        57\n",
      "          31       1.00      1.00      1.00        24\n",
      "\n",
      "    accuracy                           0.98      2292\n",
      "   macro avg       0.65      0.65      0.63      2292\n",
      "weighted avg       0.98      0.98      0.97      2292\n",
      "\n"
     ]
    },
    {
     "name": "stderr",
     "output_type": "stream",
     "text": [
      "C:\\Users\\mindstix\\anaconda3\\lib\\site-packages\\sklearn\\metrics\\_classification.py:1318: UndefinedMetricWarning: Precision and F-score are ill-defined and being set to 0.0 in labels with no predicted samples. Use `zero_division` parameter to control this behavior.\n",
      "  _warn_prf(average, modifier, msg_start, len(result))\n",
      "C:\\Users\\mindstix\\anaconda3\\lib\\site-packages\\sklearn\\metrics\\_classification.py:1318: UndefinedMetricWarning: Recall and F-score are ill-defined and being set to 0.0 in labels with no true samples. Use `zero_division` parameter to control this behavior.\n",
      "  _warn_prf(average, modifier, msg_start, len(result))\n",
      "C:\\Users\\mindstix\\anaconda3\\lib\\site-packages\\sklearn\\metrics\\_classification.py:1318: UndefinedMetricWarning: Precision and F-score are ill-defined and being set to 0.0 in labels with no predicted samples. Use `zero_division` parameter to control this behavior.\n",
      "  _warn_prf(average, modifier, msg_start, len(result))\n",
      "C:\\Users\\mindstix\\anaconda3\\lib\\site-packages\\sklearn\\metrics\\_classification.py:1318: UndefinedMetricWarning: Recall and F-score are ill-defined and being set to 0.0 in labels with no true samples. Use `zero_division` parameter to control this behavior.\n",
      "  _warn_prf(average, modifier, msg_start, len(result))\n",
      "C:\\Users\\mindstix\\anaconda3\\lib\\site-packages\\sklearn\\metrics\\_classification.py:1318: UndefinedMetricWarning: Precision and F-score are ill-defined and being set to 0.0 in labels with no predicted samples. Use `zero_division` parameter to control this behavior.\n",
      "  _warn_prf(average, modifier, msg_start, len(result))\n",
      "C:\\Users\\mindstix\\anaconda3\\lib\\site-packages\\sklearn\\metrics\\_classification.py:1318: UndefinedMetricWarning: Recall and F-score are ill-defined and being set to 0.0 in labels with no true samples. Use `zero_division` parameter to control this behavior.\n",
      "  _warn_prf(average, modifier, msg_start, len(result))\n"
     ]
    }
   ],
   "source": [
    "accuracy_score(y_pred_l,y_test_l)\n",
    "print(classification_report(y_test_l,y_pred_l))  \n"
   ]
  },
  {
   "cell_type": "code",
   "execution_count": 480,
   "id": "5b44af8e",
   "metadata": {},
   "outputs": [
    {
     "name": "stderr",
     "output_type": "stream",
     "text": [
      "C:\\Users\\mindstix\\anaconda3\\lib\\site-packages\\sklearn\\neighbors\\_classification.py:228: FutureWarning: Unlike other reduction functions (e.g. `skew`, `kurtosis`), the default behavior of `mode` typically preserves the axis it acts along. In SciPy 1.11.0, this behavior will change: the default value of `keepdims` will become False, the `axis` over which the statistic is taken will be eliminated, and the value None will no longer be accepted. Set `keepdims` to True or False to avoid this warning.\n",
      "  mode, _ = stats.mode(_y[neigh_ind, k], axis=1)\n"
     ]
    },
    {
     "data": {
      "text/plain": [
       "0.9197207678883071"
      ]
     },
     "execution_count": 480,
     "metadata": {},
     "output_type": "execute_result"
    }
   ],
   "source": [
    "neighl = KNeighborsClassifier(n_neighbors=3)\n",
    "knnl = neighl.fit(x_train_l,y_train_l)\n",
    "y_predlk = knnl.predict(x_test_l)\n",
    "accuracy_score(y_predlk,y_test_l)\n"
   ]
  },
  {
   "cell_type": "code",
   "execution_count": 541,
   "id": "a4be31c2",
   "metadata": {},
   "outputs": [
    {
     "name": "stdout",
     "output_type": "stream",
     "text": [
      "              precision    recall  f1-score   support\n",
      "\n",
      "           0       0.98      1.00      0.99      1673\n",
      "           1       0.52      0.61      0.56        28\n",
      "           2       0.43      0.27      0.33        11\n",
      "           3       0.00      0.00      0.00         3\n",
      "           4       0.00      0.00      0.00         3\n",
      "           5       0.00      0.00      0.00         1\n",
      "           7       0.00      0.00      0.00         0\n",
      "           9       0.87      0.92      0.90        51\n",
      "          10       0.00      0.00      0.00         2\n",
      "          11       0.72      0.79      0.75        85\n",
      "          12       0.00      0.00      0.00         1\n",
      "          13       0.22      0.29      0.25         7\n",
      "          15       0.00      0.00      0.00         1\n",
      "          16       0.79      0.81      0.80        97\n",
      "          17       0.67      0.60      0.63        10\n",
      "          18       0.87      0.84      0.86       139\n",
      "          19       0.25      0.50      0.33         2\n",
      "          20       0.48      0.57      0.52        28\n",
      "          22       0.50      0.38      0.43        26\n",
      "          24       0.00      0.00      0.00         7\n",
      "          25       0.59      0.59      0.59        29\n",
      "          26       0.00      0.00      0.00         1\n",
      "          28       0.00      0.00      0.00         3\n",
      "          29       0.00      0.00      0.00         3\n",
      "          30       0.88      0.65      0.75        57\n",
      "          31       1.00      1.00      1.00        24\n",
      "\n",
      "    accuracy                           0.92      2292\n",
      "   macro avg       0.38      0.38      0.37      2292\n",
      "weighted avg       0.91      0.92      0.91      2292\n",
      "\n"
     ]
    },
    {
     "name": "stderr",
     "output_type": "stream",
     "text": [
      "C:\\Users\\mindstix\\anaconda3\\lib\\site-packages\\sklearn\\metrics\\_classification.py:1318: UndefinedMetricWarning: Precision and F-score are ill-defined and being set to 0.0 in labels with no predicted samples. Use `zero_division` parameter to control this behavior.\n",
      "  _warn_prf(average, modifier, msg_start, len(result))\n",
      "C:\\Users\\mindstix\\anaconda3\\lib\\site-packages\\sklearn\\metrics\\_classification.py:1318: UndefinedMetricWarning: Recall and F-score are ill-defined and being set to 0.0 in labels with no true samples. Use `zero_division` parameter to control this behavior.\n",
      "  _warn_prf(average, modifier, msg_start, len(result))\n",
      "C:\\Users\\mindstix\\anaconda3\\lib\\site-packages\\sklearn\\metrics\\_classification.py:1318: UndefinedMetricWarning: Precision and F-score are ill-defined and being set to 0.0 in labels with no predicted samples. Use `zero_division` parameter to control this behavior.\n",
      "  _warn_prf(average, modifier, msg_start, len(result))\n",
      "C:\\Users\\mindstix\\anaconda3\\lib\\site-packages\\sklearn\\metrics\\_classification.py:1318: UndefinedMetricWarning: Recall and F-score are ill-defined and being set to 0.0 in labels with no true samples. Use `zero_division` parameter to control this behavior.\n",
      "  _warn_prf(average, modifier, msg_start, len(result))\n",
      "C:\\Users\\mindstix\\anaconda3\\lib\\site-packages\\sklearn\\metrics\\_classification.py:1318: UndefinedMetricWarning: Precision and F-score are ill-defined and being set to 0.0 in labels with no predicted samples. Use `zero_division` parameter to control this behavior.\n",
      "  _warn_prf(average, modifier, msg_start, len(result))\n",
      "C:\\Users\\mindstix\\anaconda3\\lib\\site-packages\\sklearn\\metrics\\_classification.py:1318: UndefinedMetricWarning: Recall and F-score are ill-defined and being set to 0.0 in labels with no true samples. Use `zero_division` parameter to control this behavior.\n",
      "  _warn_prf(average, modifier, msg_start, len(result))\n"
     ]
    }
   ],
   "source": [
    "print(classification_report(y_test_l,y_predlk))  \n"
   ]
  },
  {
   "cell_type": "code",
   "execution_count": 482,
   "id": "46906200",
   "metadata": {},
   "outputs": [],
   "source": [
    "from sklearn.svm import SVC\n",
    "svm_classifierl=SVC(kernel='rbf')\n",
    "svm_classifierl.fit(x_train_l,y_train_l)\n",
    "y_pred_lsv=svm_classifierl.predict(x_test_l)"
   ]
  },
  {
   "cell_type": "code",
   "execution_count": 540,
   "id": "af6e1f7b",
   "metadata": {},
   "outputs": [
    {
     "name": "stdout",
     "output_type": "stream",
     "text": [
      "0.9157940663176265\n",
      "              precision    recall  f1-score   support\n",
      "\n",
      "           0       0.99      0.99      0.99      1673\n",
      "           1       0.50      0.71      0.59        28\n",
      "           2       0.00      0.00      0.00        11\n",
      "           3       0.00      0.00      0.00         3\n",
      "           4       0.00      0.00      0.00         3\n",
      "           5       0.00      0.00      0.00         1\n",
      "           9       0.83      0.88      0.86        51\n",
      "          10       0.00      0.00      0.00         2\n",
      "          11       0.74      0.94      0.83        85\n",
      "          12       0.00      0.00      0.00         1\n",
      "          13       0.00      0.00      0.00         7\n",
      "          15       0.00      0.00      0.00         1\n",
      "          16       0.79      0.86      0.82        97\n",
      "          17       0.00      0.00      0.00        10\n",
      "          18       0.74      0.93      0.82       139\n",
      "          19       0.00      0.00      0.00         2\n",
      "          20       0.50      0.04      0.07        28\n",
      "          22       0.00      0.00      0.00        26\n",
      "          24       0.00      0.00      0.00         7\n",
      "          25       0.47      0.48      0.47        29\n",
      "          26       0.00      0.00      0.00         1\n",
      "          28       0.00      0.00      0.00         3\n",
      "          29       0.00      0.00      0.00         3\n",
      "          30       0.55      0.72      0.63        57\n",
      "          31       1.00      1.00      1.00        24\n",
      "\n",
      "    accuracy                           0.92      2292\n",
      "   macro avg       0.28      0.30      0.28      2292\n",
      "weighted avg       0.89      0.92      0.90      2292\n",
      "\n"
     ]
    },
    {
     "name": "stderr",
     "output_type": "stream",
     "text": [
      "C:\\Users\\mindstix\\anaconda3\\lib\\site-packages\\sklearn\\metrics\\_classification.py:1318: UndefinedMetricWarning: Precision and F-score are ill-defined and being set to 0.0 in labels with no predicted samples. Use `zero_division` parameter to control this behavior.\n",
      "  _warn_prf(average, modifier, msg_start, len(result))\n",
      "C:\\Users\\mindstix\\anaconda3\\lib\\site-packages\\sklearn\\metrics\\_classification.py:1318: UndefinedMetricWarning: Precision and F-score are ill-defined and being set to 0.0 in labels with no predicted samples. Use `zero_division` parameter to control this behavior.\n",
      "  _warn_prf(average, modifier, msg_start, len(result))\n",
      "C:\\Users\\mindstix\\anaconda3\\lib\\site-packages\\sklearn\\metrics\\_classification.py:1318: UndefinedMetricWarning: Precision and F-score are ill-defined and being set to 0.0 in labels with no predicted samples. Use `zero_division` parameter to control this behavior.\n",
      "  _warn_prf(average, modifier, msg_start, len(result))\n"
     ]
    }
   ],
   "source": [
    "print(accuracy_score(y_pred_lsv,y_test_l))\n",
    "print(classification_report(y_test_l,y_pred_lsv))  \n"
   ]
  },
  {
   "cell_type": "code",
   "execution_count": 485,
   "id": "eae8ea61",
   "metadata": {},
   "outputs": [],
   "source": [
    "from sklearn.ensemble import RandomForestClassifier\n",
    "rf_classifierl=RandomForestClassifier()\n",
    "rf_classifierl.fit(x_train_l,y_train_l)\n",
    "y_pred_rf_l=rf_classifierl.predict(x_test_l)\n"
   ]
  },
  {
   "cell_type": "code",
   "execution_count": 486,
   "id": "059f52dc",
   "metadata": {},
   "outputs": [
    {
     "data": {
      "text/plain": [
       "0.9965095986038395"
      ]
     },
     "execution_count": 486,
     "metadata": {},
     "output_type": "execute_result"
    }
   ],
   "source": [
    "accuracy_score(y_pred_rf_l,y_test_l)\n"
   ]
  },
  {
   "cell_type": "code",
   "execution_count": 539,
   "id": "548fced5",
   "metadata": {},
   "outputs": [
    {
     "name": "stderr",
     "output_type": "stream",
     "text": [
      "C:\\Users\\mindstix\\anaconda3\\lib\\site-packages\\sklearn\\utils\\deprecation.py:87: FutureWarning: Function plot_confusion_matrix is deprecated; Function `plot_confusion_matrix` is deprecated in 1.0 and will be removed in 1.2. Use one of the class methods: ConfusionMatrixDisplay.from_predictions or ConfusionMatrixDisplay.from_estimator.\n",
      "  warnings.warn(msg, category=FutureWarning)\n"
     ]
    },
    {
     "name": "stdout",
     "output_type": "stream",
     "text": [
      "              precision    recall  f1-score   support\n",
      "\n",
      "           0       1.00      1.00      1.00      1673\n",
      "           1       1.00      1.00      1.00        28\n",
      "           2       1.00      1.00      1.00        11\n",
      "           3       0.60      1.00      0.75         3\n",
      "           4       1.00      0.33      0.50         3\n",
      "           5       1.00      1.00      1.00         1\n",
      "           9       1.00      1.00      1.00        51\n",
      "          10       1.00      1.00      1.00         2\n",
      "          11       1.00      1.00      1.00        85\n",
      "          12       1.00      1.00      1.00         1\n",
      "          13       1.00      1.00      1.00         7\n",
      "          15       1.00      1.00      1.00         1\n",
      "          16       0.98      1.00      0.99        97\n",
      "          17       1.00      1.00      1.00        10\n",
      "          18       0.99      1.00      0.99       139\n",
      "          19       1.00      1.00      1.00         2\n",
      "          20       0.96      0.89      0.93        28\n",
      "          22       1.00      1.00      1.00        26\n",
      "          24       1.00      1.00      1.00         7\n",
      "          25       1.00      0.97      0.98        29\n",
      "          26       1.00      1.00      1.00         1\n",
      "          28       1.00      0.67      0.80         3\n",
      "          29       1.00      0.67      0.80         3\n",
      "          30       0.98      1.00      0.99        57\n",
      "          31       1.00      1.00      1.00        24\n",
      "\n",
      "    accuracy                           1.00      2292\n",
      "   macro avg       0.98      0.94      0.95      2292\n",
      "weighted avg       1.00      1.00      1.00      2292\n",
      "\n"
     ]
    },
    {
     "data": {
      "image/png": "[encoded data removed]",
      "text/plain": [
       "<Figure size 640x480 with 2 Axes>"
      ]
     },
     "metadata": {},
     "output_type": "display_data"
    }
   ],
   "source": [
    "from sklearn.metrics import plot_confusion_matrix ,classification_report\n",
    "\n",
    "plot_confusion_matrix(rf_classifierl,x_test_l,y_test_l,cmap=plt.cm.Blues)\n",
    "print(classification_report(y_test_l,y_pred_rf_l))  \n"
   ]
  },
  {
   "cell_type": "code",
   "execution_count": 545,
   "id": "86d41ff5",
   "metadata": {},
   "outputs": [],
   "source": [
    "import tensorflow as tf\n"
   ]
  },
  {
   "cell_type": "code",
   "execution_count": 546,
   "id": "9714b1c7",
   "metadata": {},
   "outputs": [
    {
     "name": "stdout",
     "output_type": "stream",
     "text": [
      "Requirement already satisfied: tensorflow in c:\\users\\mindstix\\anaconda3\\lib\\site-packages (2.11.0)\n",
      "Requirement already satisfied: tensorflow-intel==2.11.0 in c:\\users\\mindstix\\anaconda3\\lib\\site-packages (from tensorflow) (2.11.0)\n",
      "Requirement already satisfied: numpy>=1.20 in c:\\users\\mindstix\\anaconda3\\lib\\site-packages (from tensorflow-intel==2.11.0->tensorflow) (1.21.5)\n",
      "Requirement already satisfied: h5py>=2.9.0 in c:\\users\\mindstix\\anaconda3\\lib\\site-packages (from tensorflow-intel==2.11.0->tensorflow) (3.7.0)\n",
      "Requirement already satisfied: setuptools in c:\\users\\mindstix\\anaconda3\\lib\\site-packages (from tensorflow-intel==2.11.0->tensorflow) (63.4.1)\n",
      "Requirement already satisfied: wrapt>=1.11.0 in c:\\users\\mindstix\\anaconda3\\lib\\site-packages (from tensorflow-intel==2.11.0->tensorflow) (1.14.1)\n",
      "Requirement already satisfied: libclang>=13.0.0 in c:\\users\\mindstix\\anaconda3\\lib\\site-packages (from tensorflow-intel==2.11.0->tensorflow) (14.0.6)\n",
      "Requirement already satisfied: six>=1.12.0 in c:\\users\\mindstix\\anaconda3\\lib\\site-packages (from tensorflow-intel==2.11.0->tensorflow) (1.16.0)\n",
      "Requirement already satisfied: tensorflow-estimator<2.12,>=2.11.0 in c:\\users\\mindstix\\anaconda3\\lib\\site-packages (from tensorflow-intel==2.11.0->tensorflow) (2.11.0)\n",
      "Requirement already satisfied: flatbuffers>=2.0 in c:\\users\\mindstix\\anaconda3\\lib\\site-packages (from tensorflow-intel==2.11.0->tensorflow) (22.12.6)\n",
      "Requirement already satisfied: tensorboard<2.12,>=2.11 in c:\\users\\mindstix\\anaconda3\\lib\\site-packages (from tensorflow-intel==2.11.0->tensorflow) (2.11.0)\n",
      "Requirement already satisfied: keras<2.12,>=2.11.0 in c:\\users\\mindstix\\anaconda3\\lib\\site-packages (from tensorflow-intel==2.11.0->tensorflow) (2.11.0)\n",
      "Requirement already satisfied: typing-extensions>=3.6.6 in c:\\users\\mindstix\\anaconda3\\lib\\site-packages (from tensorflow-intel==2.11.0->tensorflow) (4.3.0)\n",
      "Requirement already satisfied: protobuf<3.20,>=3.9.2 in c:\\users\\mindstix\\anaconda3\\lib\\site-packages (from tensorflow-intel==2.11.0->tensorflow) (3.19.6)\n",
      "Requirement already satisfied: opt-einsum>=2.3.2 in c:\\users\\mindstix\\anaconda3\\lib\\site-packages (from tensorflow-intel==2.11.0->tensorflow) (3.3.0)\n",
      "Requirement already satisfied: grpcio<2.0,>=1.24.3 in c:\\users\\mindstix\\anaconda3\\lib\\site-packages (from tensorflow-intel==2.11.0->tensorflow) (1.51.1)\n",
      "Requirement already satisfied: packaging in c:\\users\\mindstix\\anaconda3\\lib\\site-packages (from tensorflow-intel==2.11.0->tensorflow) (21.3)\n",
      "Requirement already satisfied: absl-py>=1.0.0 in c:\\users\\mindstix\\anaconda3\\lib\\site-packages (from tensorflow-intel==2.11.0->tensorflow) (1.3.0)\n",
      "Requirement already satisfied: tensorflow-io-gcs-filesystem>=0.23.1 in c:\\users\\mindstix\\anaconda3\\lib\\site-packages (from tensorflow-intel==2.11.0->tensorflow) (0.28.0)\n",
      "Requirement already satisfied: google-pasta>=0.1.1 in c:\\users\\mindstix\\anaconda3\\lib\\site-packages (from tensorflow-intel==2.11.0->tensorflow) (0.2.0)\n",
      "Requirement already satisfied: gast<=0.4.0,>=0.2.1 in c:\\users\\mindstix\\anaconda3\\lib\\site-packages (from tensorflow-intel==2.11.0->tensorflow) (0.4.0)\n",
      "Requirement already satisfied: astunparse>=1.6.0 in c:\\users\\mindstix\\anaconda3\\lib\\site-packages (from tensorflow-intel==2.11.0->tensorflow) (1.6.3)\n",
      "Requirement already satisfied: termcolor>=1.1.0 in c:\\users\\mindstix\\anaconda3\\lib\\site-packages (from tensorflow-intel==2.11.0->tensorflow) (2.1.1)\n",
      "Requirement already satisfied: wheel<1.0,>=0.23.0 in c:\\users\\mindstix\\anaconda3\\lib\\site-packages (from astunparse>=1.6.0->tensorflow-intel==2.11.0->tensorflow) (0.37.1)\n",
      "Requirement already satisfied: tensorboard-data-server<0.7.0,>=0.6.0 in c:\\users\\mindstix\\anaconda3\\lib\\site-packages (from tensorboard<2.12,>=2.11->tensorflow-intel==2.11.0->tensorflow) (0.6.1)\n",
      "Requirement already satisfied: requests<3,>=2.21.0 in c:\\users\\mindstix\\anaconda3\\lib\\site-packages (from tensorboard<2.12,>=2.11->tensorflow-intel==2.11.0->tensorflow) (2.28.1)\n",
      "Requirement already satisfied: google-auth<3,>=1.6.3 in c:\\users\\mindstix\\anaconda3\\lib\\site-packages (from tensorboard<2.12,>=2.11->tensorflow-intel==2.11.0->tensorflow) (2.15.0)\n",
      "Requirement already satisfied: markdown>=2.6.8 in c:\\users\\mindstix\\anaconda3\\lib\\site-packages (from tensorboard<2.12,>=2.11->tensorflow-intel==2.11.0->tensorflow) (3.3.4)\n",
      "Requirement already satisfied: werkzeug>=1.0.1 in c:\\users\\mindstix\\anaconda3\\lib\\site-packages (from tensorboard<2.12,>=2.11->tensorflow-intel==2.11.0->tensorflow) (2.0.3)\n",
      "Requirement already satisfied: google-auth-oauthlib<0.5,>=0.4.1 in c:\\users\\mindstix\\anaconda3\\lib\\site-packages (from tensorboard<2.12,>=2.11->tensorflow-intel==2.11.0->tensorflow) (0.4.6)\n",
      "Requirement already satisfied: tensorboard-plugin-wit>=1.6.0 in c:\\users\\mindstix\\anaconda3\\lib\\site-packages (from tensorboard<2.12,>=2.11->tensorflow-intel==2.11.0->tensorflow) (1.8.1)\n",
      "Requirement already satisfied: pyparsing!=3.0.5,>=2.0.2 in c:\\users\\mindstix\\anaconda3\\lib\\site-packages (from packaging->tensorflow-intel==2.11.0->tensorflow) (3.0.9)\n",
      "Requirement already satisfied: pyasn1-modules>=0.2.1 in c:\\users\\mindstix\\anaconda3\\lib\\site-packages (from google-auth<3,>=1.6.3->tensorboard<2.12,>=2.11->tensorflow-intel==2.11.0->tensorflow) (0.2.8)\n",
      "Requirement already satisfied: cachetools<6.0,>=2.0.0 in c:\\users\\mindstix\\anaconda3\\lib\\site-packages (from google-auth<3,>=1.6.3->tensorboard<2.12,>=2.11->tensorflow-intel==2.11.0->tensorflow) (5.2.0)\n",
      "Requirement already satisfied: rsa<5,>=3.1.4 in c:\\users\\mindstix\\anaconda3\\lib\\site-packages (from google-auth<3,>=1.6.3->tensorboard<2.12,>=2.11->tensorflow-intel==2.11.0->tensorflow) (4.9)\n",
      "Requirement already satisfied: requests-oauthlib>=0.7.0 in c:\\users\\mindstix\\anaconda3\\lib\\site-packages (from google-auth-oauthlib<0.5,>=0.4.1->tensorboard<2.12,>=2.11->tensorflow-intel==2.11.0->tensorflow) (1.3.1)\n",
      "Requirement already satisfied: urllib3<1.27,>=1.21.1 in c:\\users\\mindstix\\anaconda3\\lib\\site-packages (from requests<3,>=2.21.0->tensorboard<2.12,>=2.11->tensorflow-intel==2.11.0->tensorflow) (1.26.11)\n",
      "Requirement already satisfied: charset-normalizer<3,>=2 in c:\\users\\mindstix\\anaconda3\\lib\\site-packages (from requests<3,>=2.21.0->tensorboard<2.12,>=2.11->tensorflow-intel==2.11.0->tensorflow) (2.0.4)\n",
      "Requirement already satisfied: certifi>=2017.4.17 in c:\\users\\mindstix\\anaconda3\\lib\\site-packages (from requests<3,>=2.21.0->tensorboard<2.12,>=2.11->tensorflow-intel==2.11.0->tensorflow) (2022.9.14)\n",
      "Requirement already satisfied: idna<4,>=2.5 in c:\\users\\mindstix\\anaconda3\\lib\\site-packages (from requests<3,>=2.21.0->tensorboard<2.12,>=2.11->tensorflow-intel==2.11.0->tensorflow) (3.3)\n",
      "Requirement already satisfied: pyasn1<0.5.0,>=0.4.6 in c:\\users\\mindstix\\anaconda3\\lib\\site-packages (from pyasn1-modules>=0.2.1->google-auth<3,>=1.6.3->tensorboard<2.12,>=2.11->tensorflow-intel==2.11.0->tensorflow) (0.4.8)\n",
      "Requirement already satisfied: oauthlib>=3.0.0 in c:\\users\\mindstix\\anaconda3\\lib\\site-packages (from requests-oauthlib>=0.7.0->google-auth-oauthlib<0.5,>=0.4.1->tensorboard<2.12,>=2.11->tensorflow-intel==2.11.0->tensorflow) (3.2.2)\n",
      "Note: you may need to restart the kernel to use updated packages.\n"
     ]
    }
   ],
   "source": [
    "pip install tensorflow"
   ]
  },
  {
   "cell_type": "code",
   "execution_count": 547,
   "id": "e1e6f375",
   "metadata": {},
   "outputs": [],
   "source": [
    "model = tf.keras.models.Sequential()\n"
   ]
  },
  {
   "cell_type": "code",
   "execution_count": 550,
   "id": "d3743fea",
   "metadata": {},
   "outputs": [
    {
     "data": {
      "text/plain": [
       "(2292, 6)"
      ]
     },
     "execution_count": 550,
     "metadata": {},
     "output_type": "execute_result"
    }
   ],
   "source": [
    "x_test.shape"
   ]
  },
  {
   "cell_type": "code",
   "execution_count": 564,
   "id": "9a0877ed",
   "metadata": {},
   "outputs": [],
   "source": [
    "model.add(tf.keras.layers.Dense(units = 128, activation = 'relu', input_shape = (6,)))\n",
    "model.add(tf.keras.layers.Dense(units = 128, activation = 'relu'))\n",
    "model.add(tf.keras.layers.Dense(units = 64, activation = 'relu'))\n",
    "model.add(tf.keras.layers.Dense(units = 64, activation = 'relu'))\n",
    "model.add(tf.keras.layers.Dense(units = 32, activation = 'softmax'))\n",
    "\n"
   ]
  },
  {
   "cell_type": "code",
   "execution_count": 565,
   "id": "de8eaadd",
   "metadata": {},
   "outputs": [],
   "source": [
    "model.compile(optimizer = 'adam', loss = 'sparse_categorical_crossentropy', metrics = ['sparse_categorical_accuracy'])\n"
   ]
  },
  {
   "cell_type": "code",
   "execution_count": 566,
   "id": "a0165430",
   "metadata": {},
   "outputs": [
    {
     "name": "stdout",
     "output_type": "stream",
     "text": [
      "Epoch 1/15\n",
      "215/215 [==============================] - 11s 34ms/step - loss: 1.1483 - sparse_categorical_accuracy: 0.7707\n",
      "Epoch 2/15\n",
      "215/215 [==============================] - 7s 34ms/step - loss: 0.7559 - sparse_categorical_accuracy: 0.7898\n",
      "Epoch 3/15\n",
      "215/215 [==============================] - 7s 32ms/step - loss: 0.6998 - sparse_categorical_accuracy: 0.8008\n",
      "Epoch 4/15\n",
      "215/215 [==============================] - 7s 32ms/step - loss: 0.6875 - sparse_categorical_accuracy: 0.7996\n",
      "Epoch 5/15\n",
      "215/215 [==============================] - 7s 32ms/step - loss: 0.6714 - sparse_categorical_accuracy: 0.8031\n",
      "Epoch 6/15\n",
      "215/215 [==============================] - 7s 31ms/step - loss: 0.6507 - sparse_categorical_accuracy: 0.8024\n",
      "Epoch 7/15\n",
      "215/215 [==============================] - 5s 25ms/step - loss: 0.6422 - sparse_categorical_accuracy: 0.8019\n",
      "Epoch 8/15\n",
      "215/215 [==============================] - 6s 30ms/step - loss: 0.5992 - sparse_categorical_accuracy: 0.8159\n",
      "Epoch 9/15\n",
      "215/215 [==============================] - 7s 32ms/step - loss: 0.5702 - sparse_categorical_accuracy: 0.8172\n",
      "Epoch 10/15\n",
      "215/215 [==============================] - 8s 37ms/step - loss: 0.5518 - sparse_categorical_accuracy: 0.8278\n",
      "Epoch 11/15\n",
      "215/215 [==============================] - 6s 29ms/step - loss: 0.5333 - sparse_categorical_accuracy: 0.8245\n",
      "Epoch 12/15\n",
      "215/215 [==============================] - 6s 26ms/step - loss: 0.5192 - sparse_categorical_accuracy: 0.8296\n",
      "Epoch 13/15\n",
      "215/215 [==============================] - 7s 31ms/step - loss: 0.5009 - sparse_categorical_accuracy: 0.8351\n",
      "Epoch 14/15\n",
      "215/215 [==============================] - 6s 26ms/step - loss: 0.5160 - sparse_categorical_accuracy: 0.8326\n",
      "Epoch 15/15\n",
      "215/215 [==============================] - 7s 35ms/step - loss: 0.4933 - sparse_categorical_accuracy: 0.8367\n"
     ]
    },
    {
     "data": {
      "text/plain": [
       "<keras.callbacks.History at 0x21b2ff96580>"
      ]
     },
     "execution_count": 566,
     "metadata": {},
     "output_type": "execute_result"
    }
   ],
   "source": [
    "model.fit(x_train, y_train, epochs =15)\n"
   ]
  },
  {
   "cell_type": "code",
   "execution_count": 567,
   "id": "ecd1717b",
   "metadata": {},
   "outputs": [
    {
     "name": "stdout",
     "output_type": "stream",
     "text": [
      "72/72 [==============================] - 1s 7ms/step - loss: 0.5317 - sparse_categorical_accuracy: 0.8277\n"
     ]
    }
   ],
   "source": [
    "test_loss, test_accuracy = model.evaluate(x_test, y_test)\n"
   ]
  },
  {
   "cell_type": "code",
   "execution_count": 570,
   "id": "46db3f39",
   "metadata": {},
   "outputs": [],
   "source": [
    "model_fs = tf.keras.models.Sequential()\n",
    "model_fs.add(tf.keras.layers.Dense(units = 128, activation = 'relu', input_shape = (27,)))\n",
    "model_fs.add(tf.keras.layers.Dense(units = 128, activation = 'relu'))\n",
    "model_fs.add(tf.keras.layers.Dense(units = 64, activation = 'relu'))\n",
    "model_fs.add(tf.keras.layers.Dense(units = 64, activation = 'relu'))\n",
    "model_fs.add(tf.keras.layers.Dense(units = 32, activation = 'softmax'))\n",
    "\n",
    "\n"
   ]
  },
  {
   "cell_type": "code",
   "execution_count": 571,
   "id": "861ef4b4",
   "metadata": {},
   "outputs": [],
   "source": [
    "model_fs.compile(optimizer = 'adam', loss = 'sparse_categorical_crossentropy', metrics = ['sparse_categorical_accuracy'])\n"
   ]
  },
  {
   "cell_type": "code",
   "execution_count": 572,
   "id": "09ef4a51",
   "metadata": {},
   "outputs": [
    {
     "name": "stdout",
     "output_type": "stream",
     "text": [
      "Epoch 1/15\n",
      "215/215 [==============================] - 6s 18ms/step - loss: 0.8146 - sparse_categorical_accuracy: 0.8426\n",
      "Epoch 2/15\n",
      "215/215 [==============================] - 4s 17ms/step - loss: 0.3875 - sparse_categorical_accuracy: 0.9085\n",
      "Epoch 3/15\n",
      "215/215 [==============================] - 4s 18ms/step - loss: 0.3037 - sparse_categorical_accuracy: 0.9172\n",
      "Epoch 4/15\n",
      "215/215 [==============================] - 3s 13ms/step - loss: 0.2715 - sparse_categorical_accuracy: 0.9241\n",
      "Epoch 5/15\n",
      "215/215 [==============================] - 4s 17ms/step - loss: 0.2298 - sparse_categorical_accuracy: 0.9295\n",
      "Epoch 6/15\n",
      "215/215 [==============================] - 4s 17ms/step - loss: 0.2060 - sparse_categorical_accuracy: 0.9340\n",
      "Epoch 7/15\n",
      "215/215 [==============================] - 3s 15ms/step - loss: 0.1927 - sparse_categorical_accuracy: 0.9322\n",
      "Epoch 8/15\n",
      "215/215 [==============================] - 3s 16ms/step - loss: 0.1895 - sparse_categorical_accuracy: 0.9373\n",
      "Epoch 9/15\n",
      "215/215 [==============================] - 4s 17ms/step - loss: 0.2043 - sparse_categorical_accuracy: 0.9385\n",
      "Epoch 10/15\n",
      "215/215 [==============================] - 3s 15ms/step - loss: 0.1556 - sparse_categorical_accuracy: 0.9488\n",
      "Epoch 11/15\n",
      "215/215 [==============================] - 3s 14ms/step - loss: 0.1583 - sparse_categorical_accuracy: 0.9465\n",
      "Epoch 12/15\n",
      "215/215 [==============================] - 4s 17ms/step - loss: 0.1507 - sparse_categorical_accuracy: 0.9491\n",
      "Epoch 13/15\n",
      "215/215 [==============================] - 4s 16ms/step - loss: 0.1434 - sparse_categorical_accuracy: 0.9526\n",
      "Epoch 14/15\n",
      "215/215 [==============================] - 3s 14ms/step - loss: 0.1311 - sparse_categorical_accuracy: 0.9556\n",
      "Epoch 15/15\n",
      "215/215 [==============================] - 4s 18ms/step - loss: 0.1317 - sparse_categorical_accuracy: 0.9539\n"
     ]
    },
    {
     "data": {
      "text/plain": [
       "<keras.callbacks.History at 0x21b322aa040>"
      ]
     },
     "execution_count": 572,
     "metadata": {},
     "output_type": "execute_result"
    }
   ],
   "source": [
    "model_fs.fit(x_train_l, y_train_l, epochs =15)\n"
   ]
  },
  {
   "cell_type": "code",
   "execution_count": 575,
   "id": "2595e5bd",
   "metadata": {},
   "outputs": [
    {
     "name": "stdout",
     "output_type": "stream",
     "text": [
      "72/72 [==============================] - 1s 7ms/step - loss: 0.0809 - sparse_categorical_accuracy: 0.9729\n"
     ]
    }
   ],
   "source": [
    "test_loss, test_accuracy = model_fs.evaluate(x_test_l, y_test_l)\n"
   ]
  },
  {
   "cell_type": "code",
   "execution_count": 577,
   "id": "7082ea5c",
   "metadata": {},
   "outputs": [
    {
     "name": "stdout",
     "output_type": "stream",
     "text": [
      "Collecting xgboost\n",
      "  Downloading xgboost-1.7.2-py3-none-win_amd64.whl (89.1 MB)\n",
      "     ---------------------------------------- 89.1/89.1 MB 9.6 MB/s eta 0:00:00\n",
      "Requirement already satisfied: scipy in c:\\users\\mindstix\\anaconda3\\lib\\site-packages (from xgboost) (1.9.1)\n",
      "Requirement already satisfied: numpy in c:\\users\\mindstix\\anaconda3\\lib\\site-packages (from xgboost) (1.21.5)\n",
      "Installing collected packages: xgboost\n",
      "Successfully installed xgboost-1.7.2\n",
      "Note: you may need to restart the kernel to use updated packages.\n"
     ]
    }
   ],
   "source": [
    "pip install xgboost\n"
   ]
  },
  {
   "cell_type": "code",
   "execution_count": 580,
   "id": "2ff25119",
   "metadata": {},
   "outputs": [],
   "source": [
    "import xgboost as xgb \n",
    "from xgboost import XGBClassifier\n"
   ]
  },
  {
   "cell_type": "code",
   "execution_count": 581,
   "id": "be4fe071",
   "metadata": {},
   "outputs": [
    {
     "name": "stdout",
     "output_type": "stream",
     "text": [
      "XGBClassifier(base_score=0.5, booster='gbtree', callbacks=None,\n",
      "              colsample_bylevel=1, colsample_bynode=1, colsample_bytree=1,\n",
      "              early_stopping_rounds=None, enable_categorical=False,\n",
      "              eval_metric=None, feature_types=None, gamma=0, gpu_id=-1,\n",
      "              grow_policy='depthwise', importance_type=None,\n",
      "              interaction_constraints='', learning_rate=0.300000012,\n",
      "              max_bin=256, max_cat_threshold=64, max_cat_to_onehot=4,\n",
      "              max_delta_step=0, max_depth=6, max_leaves=0, min_child_weight=1,\n",
      "              missing=nan, monotone_constraints='()', n_estimators=100,\n",
      "              n_jobs=0, num_parallel_tree=1, objective='multi:softprob',\n",
      "              predictor='auto', ...)\n"
     ]
    }
   ],
   "source": [
    "learn = XGBClassifier()  #6 features\n",
    "learn.fit(x_train, y_train)\n",
    "print (learn)"
   ]
  },
  {
   "cell_type": "code",
   "execution_count": 582,
   "id": "fe038274",
   "metadata": {},
   "outputs": [],
   "source": [
    "pred = learn.predict(x_test)\n"
   ]
  },
  {
   "cell_type": "code",
   "execution_count": 583,
   "id": "4905071d",
   "metadata": {},
   "outputs": [
    {
     "data": {
      "text/plain": [
       "0.9245200698080279"
      ]
     },
     "execution_count": 583,
     "metadata": {},
     "output_type": "execute_result"
    }
   ],
   "source": [
    "accuracy_score(pred,y_test)"
   ]
  },
  {
   "cell_type": "code",
   "execution_count": 591,
   "id": "b24a5ee6",
   "metadata": {},
   "outputs": [
    {
     "name": "stdout",
     "output_type": "stream",
     "text": [
      "              precision    recall  f1-score   support\n",
      "\n",
      "         0.0       0.96      0.97      0.96      1673\n",
      "         1.0       0.72      0.93      0.81        28\n",
      "         2.0       0.67      0.36      0.47        11\n",
      "         3.0       0.00      0.00      0.00         3\n",
      "         4.0       0.00      0.00      0.00         3\n",
      "         5.0       0.00      0.00      0.00         1\n",
      "         9.0       0.92      0.94      0.93        51\n",
      "        10.0       1.00      0.50      0.67         2\n",
      "        11.0       0.93      0.99      0.96        85\n",
      "        12.0       0.00      0.00      0.00         1\n",
      "        13.0       0.70      1.00      0.82         7\n",
      "        15.0       0.00      0.00      0.00         1\n",
      "        16.0       0.75      0.69      0.72        97\n",
      "        17.0       0.60      0.30      0.40        10\n",
      "        18.0       0.88      0.89      0.89       139\n",
      "        19.0       1.00      0.50      0.67         2\n",
      "        20.0       0.72      0.64      0.68        28\n",
      "        22.0       0.96      0.96      0.96        26\n",
      "        24.0       0.83      0.71      0.77         7\n",
      "        25.0       0.78      0.72      0.75        29\n",
      "        26.0       0.00      0.00      0.00         1\n",
      "        28.0       0.00      0.00      0.00         3\n",
      "        29.0       0.00      0.00      0.00         3\n",
      "        30.0       0.80      0.63      0.71        57\n",
      "        31.0       1.00      1.00      1.00        24\n",
      "\n",
      "    accuracy                           0.92      2292\n",
      "   macro avg       0.57      0.51      0.53      2292\n",
      "weighted avg       0.92      0.92      0.92      2292\n",
      "\n"
     ]
    },
    {
     "name": "stderr",
     "output_type": "stream",
     "text": [
      "C:\\Users\\mindstix\\anaconda3\\lib\\site-packages\\sklearn\\metrics\\_classification.py:1318: UndefinedMetricWarning: Precision and F-score are ill-defined and being set to 0.0 in labels with no predicted samples. Use `zero_division` parameter to control this behavior.\n",
      "  _warn_prf(average, modifier, msg_start, len(result))\n",
      "C:\\Users\\mindstix\\anaconda3\\lib\\site-packages\\sklearn\\metrics\\_classification.py:1318: UndefinedMetricWarning: Precision and F-score are ill-defined and being set to 0.0 in labels with no predicted samples. Use `zero_division` parameter to control this behavior.\n",
      "  _warn_prf(average, modifier, msg_start, len(result))\n",
      "C:\\Users\\mindstix\\anaconda3\\lib\\site-packages\\sklearn\\metrics\\_classification.py:1318: UndefinedMetricWarning: Precision and F-score are ill-defined and being set to 0.0 in labels with no predicted samples. Use `zero_division` parameter to control this behavior.\n",
      "  _warn_prf(average, modifier, msg_start, len(result))\n"
     ]
    }
   ],
   "source": [
    "print(classification_report(y_test,pred))  \n"
   ]
  },
  {
   "cell_type": "code",
   "execution_count": 585,
   "id": "863aa610",
   "metadata": {
    "scrolled": true
   },
   "outputs": [
    {
     "name": "stdout",
     "output_type": "stream",
     "text": [
      "XGBClassifier(base_score=0.5, booster='gbtree', callbacks=None,\n",
      "              colsample_bylevel=1, colsample_bynode=1, colsample_bytree=1,\n",
      "              early_stopping_rounds=None, enable_categorical=False,\n",
      "              eval_metric=None, feature_types=None, gamma=0, gpu_id=-1,\n",
      "              grow_policy='depthwise', importance_type=None,\n",
      "              interaction_constraints='', learning_rate=0.300000012,\n",
      "              max_bin=256, max_cat_threshold=64, max_cat_to_onehot=4,\n",
      "              max_delta_step=0, max_depth=6, max_leaves=0, min_child_weight=1,\n",
      "              missing=nan, monotone_constraints='()', n_estimators=100,\n",
      "              n_jobs=0, num_parallel_tree=1, objective='multi:softprob',\n",
      "              predictor='auto', ...)\n"
     ]
    }
   ],
   "source": [
    "learnl = XGBClassifier() #after filter based features\n",
    "learnl.fit(x_train_l, y_train_l)\n",
    "print (learnl)"
   ]
  },
  {
   "cell_type": "code",
   "execution_count": 588,
   "id": "bb38c0d3",
   "metadata": {},
   "outputs": [],
   "source": [
    "pred_l = learnl.predict(x_test_l)\n"
   ]
  },
  {
   "cell_type": "code",
   "execution_count": 589,
   "id": "0e78d29b",
   "metadata": {},
   "outputs": [
    {
     "data": {
      "text/plain": [
       "0.9986910994764397"
      ]
     },
     "execution_count": 589,
     "metadata": {},
     "output_type": "execute_result"
    }
   ],
   "source": [
    "accuracy_score(pred_l,y_test_l)"
   ]
  },
  {
   "cell_type": "code",
   "execution_count": 590,
   "id": "c0c7b4c0",
   "metadata": {},
   "outputs": [
    {
     "name": "stdout",
     "output_type": "stream",
     "text": [
      "              precision    recall  f1-score   support\n",
      "\n",
      "           0       1.00      1.00      1.00      1673\n",
      "           1       0.97      1.00      0.98        28\n",
      "           2       1.00      1.00      1.00        11\n",
      "           3       1.00      0.67      0.80         3\n",
      "           4       1.00      1.00      1.00         3\n",
      "           5       1.00      1.00      1.00         1\n",
      "           9       0.98      1.00      0.99        51\n",
      "          10       1.00      0.50      0.67         2\n",
      "          11       1.00      1.00      1.00        85\n",
      "          12       1.00      1.00      1.00         1\n",
      "          13       1.00      1.00      1.00         7\n",
      "          15       0.00      0.00      0.00         1\n",
      "          16       0.99      1.00      0.99        97\n",
      "          17       1.00      1.00      1.00        10\n",
      "          18       1.00      1.00      1.00       139\n",
      "          19       1.00      1.00      1.00         2\n",
      "          20       1.00      1.00      1.00        28\n",
      "          22       1.00      1.00      1.00        26\n",
      "          24       1.00      1.00      1.00         7\n",
      "          25       1.00      1.00      1.00        29\n",
      "          26       1.00      1.00      1.00         1\n",
      "          28       1.00      1.00      1.00         3\n",
      "          29       1.00      1.00      1.00         3\n",
      "          30       1.00      1.00      1.00        57\n",
      "          31       1.00      1.00      1.00        24\n",
      "\n",
      "    accuracy                           1.00      2292\n",
      "   macro avg       0.96      0.93      0.94      2292\n",
      "weighted avg       1.00      1.00      1.00      2292\n",
      "\n"
     ]
    },
    {
     "name": "stderr",
     "output_type": "stream",
     "text": [
      "C:\\Users\\mindstix\\anaconda3\\lib\\site-packages\\sklearn\\metrics\\_classification.py:1318: UndefinedMetricWarning: Precision and F-score are ill-defined and being set to 0.0 in labels with no predicted samples. Use `zero_division` parameter to control this behavior.\n",
      "  _warn_prf(average, modifier, msg_start, len(result))\n",
      "C:\\Users\\mindstix\\anaconda3\\lib\\site-packages\\sklearn\\metrics\\_classification.py:1318: UndefinedMetricWarning: Precision and F-score are ill-defined and being set to 0.0 in labels with no predicted samples. Use `zero_division` parameter to control this behavior.\n",
      "  _warn_prf(average, modifier, msg_start, len(result))\n",
      "C:\\Users\\mindstix\\anaconda3\\lib\\site-packages\\sklearn\\metrics\\_classification.py:1318: UndefinedMetricWarning: Precision and F-score are ill-defined and being set to 0.0 in labels with no predicted samples. Use `zero_division` parameter to control this behavior.\n",
      "  _warn_prf(average, modifier, msg_start, len(result))\n"
     ]
    }
   ],
   "source": [
    "print(classification_report(y_test_l,pred_l))  \n"
   ]
  },
  {
   "cell_type": "code",
   "execution_count": 609,
   "id": "7a64c12c",
   "metadata": {},
   "outputs": [],
   "source": [
    "from sklearn.metrics import mean_squared_error\n",
    "import math\n",
    "def fitness_function(position):\n",
    " svclassifier = SVC(kernel='rbf', gamma = position[0].all(), C = position[1].all())\n",
    " svclassifier.fit(x_train, y_train)\n",
    " y_train_pred = svclassifier.predict(x_train)\n",
    " y_test_pred = svclassifier.predict(x_test)\n",
    " mse_f =mean_squared_error(y_test, y_test_pred)\n",
    " rmse_f = math.sqrt(mse_f)\n",
    " return rmse_f\n",
    "\n"
   ]
  },
  {
   "cell_type": "code",
   "execution_count": 603,
   "id": "18b50467",
   "metadata": {},
   "outputs": [
    {
     "name": "stdout",
     "output_type": "stream",
     "text": [
      "Collecting pyswarms\n",
      "  Downloading pyswarms-1.3.0-py2.py3-none-any.whl (104 kB)\n",
      "     ------------------------------------ 104.1/104.1 kB 545.6 kB/s eta 0:00:00\n",
      "Requirement already satisfied: attrs in c:\\users\\mindstix\\anaconda3\\lib\\site-packages (from pyswarms) (21.4.0)\n",
      "Requirement already satisfied: scipy in c:\\users\\mindstix\\anaconda3\\lib\\site-packages (from pyswarms) (1.9.1)\n",
      "Requirement already satisfied: pyyaml in c:\\users\\mindstix\\anaconda3\\lib\\site-packages (from pyswarms) (6.0)\n",
      "Requirement already satisfied: numpy in c:\\users\\mindstix\\anaconda3\\lib\\site-packages (from pyswarms) (1.21.5)\n",
      "Requirement already satisfied: tqdm in c:\\users\\mindstix\\anaconda3\\lib\\site-packages (from pyswarms) (4.64.1)\n",
      "Requirement already satisfied: matplotlib>=1.3.1 in c:\\users\\mindstix\\anaconda3\\lib\\site-packages (from pyswarms) (3.5.2)\n",
      "Requirement already satisfied: future in c:\\users\\mindstix\\anaconda3\\lib\\site-packages (from pyswarms) (0.18.2)\n",
      "Requirement already satisfied: kiwisolver>=1.0.1 in c:\\users\\mindstix\\anaconda3\\lib\\site-packages (from matplotlib>=1.3.1->pyswarms) (1.4.2)\n",
      "Requirement already satisfied: python-dateutil>=2.7 in c:\\users\\mindstix\\anaconda3\\lib\\site-packages (from matplotlib>=1.3.1->pyswarms) (2.8.2)\n",
      "Requirement already satisfied: fonttools>=4.22.0 in c:\\users\\mindstix\\anaconda3\\lib\\site-packages (from matplotlib>=1.3.1->pyswarms) (4.25.0)\n",
      "Requirement already satisfied: packaging>=20.0 in c:\\users\\mindstix\\anaconda3\\lib\\site-packages (from matplotlib>=1.3.1->pyswarms) (21.3)\n",
      "Requirement already satisfied: pyparsing>=2.2.1 in c:\\users\\mindstix\\anaconda3\\lib\\site-packages (from matplotlib>=1.3.1->pyswarms) (3.0.9)\n",
      "Requirement already satisfied: cycler>=0.10 in c:\\users\\mindstix\\anaconda3\\lib\\site-packages (from matplotlib>=1.3.1->pyswarms) (0.11.0)\n",
      "Requirement already satisfied: pillow>=6.2.0 in c:\\users\\mindstix\\anaconda3\\lib\\site-packages (from matplotlib>=1.3.1->pyswarms) (9.2.0)\n",
      "Requirement already satisfied: colorama in c:\\users\\mindstix\\anaconda3\\lib\\site-packages (from tqdm->pyswarms) (0.4.5)\n",
      "Requirement already satisfied: six>=1.5 in c:\\users\\mindstix\\anaconda3\\lib\\site-packages (from python-dateutil>=2.7->matplotlib>=1.3.1->pyswarms) (1.16.0)\n",
      "Installing collected packages: pyswarms\n",
      "Successfully installed pyswarms-1.3.0\n",
      "Note: you may need to restart the kernel to use updated packages.\n"
     ]
    }
   ],
   "source": [
    "pip install pyswarms\n"
   ]
  },
  {
   "cell_type": "code",
   "execution_count": 610,
   "id": "f55e0f6b",
   "metadata": {},
   "outputs": [
    {
     "name": "stderr",
     "output_type": "stream",
     "text": [
      "2022-12-14 13:31:14,729 - pyswarms.single.global_best - INFO - Optimize for 10 iters with {'c1': 0.5, 'c2': 0.3, 'w': 0.9}\n",
      "pyswarms.single.global_best: 100%|██████████████████████████████████████████████████████████████|10/10, best_cost=0.736\n",
      "2022-12-14 13:56:11,049 - pyswarms.single.global_best - INFO - Optimization finished | best cost: 0.7356020942408377, best pos: [6.90837550e+02 2.94022619e-02]\n"
     ]
    }
   ],
   "source": [
    "import pyswarms as ps\n",
    "lb = [10, 0.0001]\n",
    "ub = [1000,0.1]\n",
    "options = {'c1': 0.5, 'c2': 0.3, 'w':0.9}\n",
    "gamma_opt, C_opt = optimizer.optimize(fitness_function, iters=10)"
   ]
  },
  {
   "cell_type": "code",
   "execution_count": 611,
   "id": "cf29a942",
   "metadata": {},
   "outputs": [
    {
     "name": "stdout",
     "output_type": "stream",
     "text": [
      "Collecting pgmpy\n",
      "  Downloading pgmpy-0.1.20-py3-none-any.whl (1.9 MB)\n",
      "     ---------------------------------------- 1.9/1.9 MB 10.2 MB/s eta 0:00:00\n",
      "Requirement already satisfied: tqdm in c:\\users\\mindstix\\anaconda3\\lib\\site-packages (from pgmpy) (4.64.1)\n",
      "Collecting torch\n",
      "  Downloading torch-1.13.0-cp39-cp39-win_amd64.whl (167.2 MB)\n",
      "     -------------------------------------- 167.2/167.2 MB 5.6 MB/s eta 0:00:00\n",
      "Requirement already satisfied: statsmodels in c:\\users\\mindstix\\anaconda3\\lib\\site-packages (from pgmpy) (0.13.2)\n",
      "Requirement already satisfied: pyparsing in c:\\users\\mindstix\\anaconda3\\lib\\site-packages (from pgmpy) (3.0.9)\n",
      "Requirement already satisfied: numpy in c:\\users\\mindstix\\anaconda3\\lib\\site-packages (from pgmpy) (1.21.5)\n",
      "Requirement already satisfied: opt-einsum in c:\\users\\mindstix\\anaconda3\\lib\\site-packages (from pgmpy) (3.3.0)\n",
      "Requirement already satisfied: pandas in c:\\users\\mindstix\\anaconda3\\lib\\site-packages (from pgmpy) (1.4.4)\n",
      "Requirement already satisfied: networkx in c:\\users\\mindstix\\anaconda3\\lib\\site-packages (from pgmpy) (2.8.4)\n",
      "Requirement already satisfied: joblib in c:\\users\\mindstix\\anaconda3\\lib\\site-packages (from pgmpy) (1.1.0)\n",
      "Requirement already satisfied: scipy in c:\\users\\mindstix\\anaconda3\\lib\\site-packages (from pgmpy) (1.9.1)\n",
      "Requirement already satisfied: scikit-learn in c:\\users\\mindstix\\anaconda3\\lib\\site-packages (from pgmpy) (1.0.2)\n",
      "Requirement already satisfied: python-dateutil>=2.8.1 in c:\\users\\mindstix\\anaconda3\\lib\\site-packages (from pandas->pgmpy) (2.8.2)\n",
      "Requirement already satisfied: pytz>=2020.1 in c:\\users\\mindstix\\anaconda3\\lib\\site-packages (from pandas->pgmpy) (2022.1)\n",
      "Requirement already satisfied: threadpoolctl>=2.0.0 in c:\\users\\mindstix\\anaconda3\\lib\\site-packages (from scikit-learn->pgmpy) (2.2.0)\n",
      "Requirement already satisfied: patsy>=0.5.2 in c:\\users\\mindstix\\anaconda3\\lib\\site-packages (from statsmodels->pgmpy) (0.5.2)\n",
      "Requirement already satisfied: packaging>=21.3 in c:\\users\\mindstix\\anaconda3\\lib\\site-packages (from statsmodels->pgmpy) (21.3)\n",
      "Requirement already satisfied: typing-extensions in c:\\users\\mindstix\\anaconda3\\lib\\site-packages (from torch->pgmpy) (4.3.0)\n",
      "Requirement already satisfied: colorama in c:\\users\\mindstix\\anaconda3\\lib\\site-packages (from tqdm->pgmpy) (0.4.5)\n",
      "Requirement already satisfied: six in c:\\users\\mindstix\\anaconda3\\lib\\site-packages (from patsy>=0.5.2->statsmodels->pgmpy) (1.16.0)\n",
      "Installing collected packages: torch, pgmpy\n",
      "Successfully installed pgmpy-0.1.20 torch-1.13.0\n"
     ]
    }
   ],
   "source": [
    "!pip install pgmpy"
   ]
  },
  {
   "cell_type": "code",
   "execution_count": null,
   "id": "eeee6798",
   "metadata": {},
   "outputs": [],
   "source": []
  }
 ],
 "metadata": {
  "kernelspec": {
   "display_name": "Python 3 (ipykernel)",
   "language": "python",
   "name": "python3"
  },
  "language_info": {
   "codemirror_mode": {
    "name": "ipython",
    "version": 3
   },
   "file_extension": ".py",
   "mimetype": "text/x-python",
   "name": "python",
   "nbconvert_exporter": "python",
   "pygments_lexer": "ipython3",
   "version": "3.9.13"
  }
 },
 "nbformat": 4,
 "nbformat_minor": 5
}
